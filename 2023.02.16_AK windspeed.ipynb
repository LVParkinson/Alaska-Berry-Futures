{
 "cells": [
  {
   "cell_type": "markdown",
   "metadata": {},
   "source": [
    "## Alaska Berry Futures\n",
    "### Wind speed and pollinators\n",
    "\n",
    "February 16, 2023    \n",
    "Using SNAP wind models to investigate how wind speed my affect pollinator movements in AK's future    "
   ]
  },
  {
   "cell_type": "code",
   "execution_count": 1,
   "metadata": {},
   "outputs": [],
   "source": [
    "import requests\n",
    "import csv\n",
    "import requests\n",
    "import pandas as pd\n",
    "import os\n",
    "from io import StringIO"
   ]
  },
  {
   "cell_type": "code",
   "execution_count": 2,
   "metadata": {
    "scrolled": true
   },
   "outputs": [
    {
     "name": "stdout",
     "output_type": "stream",
     "text": [
      "region\n",
      "Alaska Range Transition              [paaq, paed, paen, paho, pail, pamr, panc, pas...\n",
      "Aleutian Meadows                      [pacd, padk, padq, padu, paph, pasd, pasn, pasy]\n",
      "Bering Taiga                                [pabe, pacz, padl, paeh, pakn, pasm, paun]\n",
      "Bering Tundra                                                 [paom, paot, pash, patc]\n",
      "Coastal Rainforests                  [pacv, pael, pags, pagy, pajn, pakt, pamd, pan...\n",
      "Copper River & Wrangell Mountains                                   [padt, pagk, pamx]\n",
      "Intermontane Boreal                  [pabi, pabt, paei, pafa, paga, paim, pamc, pam...\n",
      "North Slope                                             [paba, pabr, pafb, palu, pasc]\n",
      "Name: icao_code, dtype: object\n"
     ]
    }
   ],
   "source": [
    "working_directory = os.getcwd()\n",
    "weather_stations =  pd.read_csv(working_directory + \"\\\\SNAPwind_location_lookup_table-1.csv\")\n",
    "\n",
    "# Group the dataframe by the 'region' column, and get the unique values of 'icao_code' for each group\n",
    "# save the codes as lowercase so it matches the csv names on the SNAP website\n",
    "icao_codes_by_region = weather_stations.groupby('region')['icao_code'].apply(lambda x: x.str.lower().unique())\n",
    "\n",
    "# Print the resulting dictionary of icao_codes by region\n",
    "print(icao_codes_by_region)\n"
   ]
  },
  {
   "cell_type": "code",
   "execution_count": 3,
   "metadata": {},
   "outputs": [],
   "source": [
    "def download_csv(url):\n",
    "    \"\"\"\n",
    "    Downloads a CSV file from a URL and returns its contents as a Pandas DataFrame.\n",
    "\n",
    "    :param url: The URL of the CSV file to download.\n",
    "    :return: A Pandas DataFrame containing the contents of the CSV file.\n",
    "    \"\"\"\n",
    "    # Send a GET request to the URL\n",
    "    response = requests.get(url)\n",
    "\n",
    "    # Check if the request was successful\n",
    "    # Print an error message if the request failed\n",
    "    if response.status_code != 200:\n",
    "        raise ValueError(f\"Failed to download CSV from {url}. Status code: {response.status_code}\")\n",
    "        \n",
    "    # Load the content of the response into a Pandas DataFrame\n",
    "    content = response.content.decode('utf-8')\n",
    "    data = pd.read_csv(StringIO(content))\n",
    "    \n",
    "    # Return the parsed data\n",
    "    return data\n"
   ]
  },
  {
   "cell_type": "code",
   "execution_count": 4,
   "metadata": {},
   "outputs": [],
   "source": [
    "def download_csvs_for_locations(regions, model):\n",
    "    \"\"\"\n",
    "    Download CSV data for multiple regions.\n",
    "\n",
    "    Args:\n",
    "        regions (list): A list of region names to download CSV data for.\n",
    "\n",
    "    Returns:\n",
    "        dict: A dictionary containing a Pandas DataFrame for each location.\n",
    "              The location name is used as the key in the dictionary.\n",
    "    \"\"\"\n",
    "    # URL format string\n",
    "    url_format = {\n",
    "        'past_asos': 'http://data.snap.uaf.edu/data/Base/AK_WRF/Historical_Projected_Hourly_Winds_1980_2099/asos/wind_hourly_asos_{}_1980-2015.csv',\n",
    "        'past_wrf_era_interim': 'http://data.snap.uaf.edu/data/Base/AK_WRF/Historical_Projected_Hourly_Winds_1980_2099/wrf/wind_hourly_wrf_era_interim_{}_1980-2014.csv',\n",
    "        'future_wrf_gfdl_cm3': 'http://data.snap.uaf.edu/data/Base/AK_WRF/Historical_Projected_Hourly_Winds_1980_2099/wrf/wind_hourly_wrf_gfdl_cm3_{}_2015-2099.csv',\n",
    "        'future_wrf_ncar_ccsm4': 'http://data.snap.uaf.edu/data/Base/AK_WRF/Historical_Projected_Hourly_Winds_1980_2099/wrf/wind_hourly_wrf_ncar_ccsm4_{}_2015-2099.csv'\n",
    "            }\n",
    "    \n",
    "    # Dictionary to store the data frames\n",
    "    data_frames = {}\n",
    "\n",
    "    # Loop over locations and download the CSV data\n",
    "    for region in regions:\n",
    "        url = url_format[model].format(region)\n",
    "        data = download_csv(url)\n",
    "\n",
    "        # Add the data frame to the dictionary using the location name as the key\n",
    "        data_frames[region] = data\n",
    "\n",
    "    # Return the dictionary of data frames\n",
    "    return data_frames"
   ]
  },
  {
   "cell_type": "code",
   "execution_count": 5,
   "metadata": {},
   "outputs": [],
   "source": [
    "def extract_may_june_dataframes(dataframes):\n",
    "    \"\"\"\n",
    "    Extracts the May/June data from a dictionary of location dataframes.\n",
    "\n",
    "    Args:\n",
    "    dataframes (dict): A dictionary of location dataframes, where the keys are location names and the values are dataframes.\n",
    "\n",
    "    Returns:\n",
    "    dict: A dictionary of location dataframes containing only the May/June data.\n",
    "    \"\"\"\n",
    "    output = {}\n",
    "    for location, df in dataframes.items():\n",
    "        # Convert the 'ts' column to a datetime object\n",
    "        df['ts'] = pd.to_datetime(df['ts'])\n",
    "        \n",
    "        # Select only the data from May and June\n",
    "        may_june_data = df.loc[(df['ts'].dt.month == 5) | (df['ts'].dt.month == 6)]\n",
    "        \n",
    "        # Store the May/June data in the output dictionary\n",
    "        output[location] = may_june_data\n",
    "    \n",
    "    return output\n"
   ]
  },
  {
   "cell_type": "code",
   "execution_count": 6,
   "metadata": {},
   "outputs": [],
   "source": [
    "# spring_interior = extract_may_june_dataframes(wind_interior)\n",
    "# pafa = spring_interior['pafa']\n",
    "# pafa[(pafa['ws']>=10)].groupby(pafa['ts'].dt.year)['ts'].count()"
   ]
  },
  {
   "cell_type": "code",
   "execution_count": 6,
   "metadata": {},
   "outputs": [],
   "source": [
    "def count_high_wind_by_year(locations_dataframes):\n",
    "    result = pd.DataFrame()\n",
    "    \n",
    "    # Loop through each location dataframe\n",
    "    for location, df in locations_dataframes.items():\n",
    "        # Select only the data with wind speed >= 10\n",
    "        high_wind = df.loc[df['ws'] >= 10]\n",
    "        \n",
    "        # Group by year and count the number of rows\n",
    "        count_by_year = high_wind.groupby(high_wind['ts'].dt.year)['ts'].count()\n",
    "        \n",
    "        # Rename the count column to the location name\n",
    "        count_by_year = count_by_year.rename(location)\n",
    "        \n",
    "        # Merge the count column with the result dataframe\n",
    "        result = pd.concat([result, count_by_year], axis=1, sort=False)\n",
    "    \n",
    "    # Reset the index to be the year\n",
    "    result = result.reset_index()\n",
    "    \n",
    "    # Rename the index column to 'year'\n",
    "    result = result.rename(columns={'index': 'year'})\n",
    "    \n",
    "    return result\n"
   ]
  },
  {
   "cell_type": "code",
   "execution_count": 7,
   "metadata": {},
   "outputs": [],
   "source": [
    "def spring_wind_by_region(AKregion: str, weatherdf: pd.DataFrame, model: str) -> pd.DataFrame:\n",
    "    \"\"\"\n",
    "    Return a DataFrame with the count of high wind events for each location in a region during May and June\n",
    "    for each year in the dataset.\n",
    "    \n",
    "    Args:\n",
    "    - AKregion (str): the region for which to compute the wind counts\n",
    "    - weatherdf (pd.DataFrame): a DataFrame containing weather data for various locations and time periods\n",
    "    - model (str): one of four SNAP wind models: \n",
    "            past_asos, past_wrf_era_interim, future_wrf_gfdl_cm3, future_wrf_ncar_ccsm4\n",
    "    \n",
    "    Returns:\n",
    "    - pd.DataFrame: a DataFrame with the count of high wind events for each location in the region, by year\n",
    "    \n",
    "    \"\"\"\n",
    "    # group locations by region, convert to lowercase, and get unique codes\n",
    "    icao_codes_by_region = weatherdf.groupby('region')['icao_code'].apply(lambda x: x.str.lower().unique())\n",
    "    \n",
    "    # get list of locations within specified region\n",
    "    locations = icao_codes_by_region[AKregion]\n",
    "    \n",
    "    # download csvs for each location and get data for May and June only\n",
    "    spring_winds = extract_may_june_dataframes(download_csvs_for_locations(locations, model))\n",
    "    \n",
    "    # count the number of high wind events for each location, by year\n",
    "    location_spring_winds = count_high_wind_by_year(spring_winds)\n",
    "    \n",
    "    return location_spring_winds\n",
    "\n",
    "    "
   ]
  },
  {
   "cell_type": "code",
   "execution_count": 9,
   "metadata": {},
   "outputs": [],
   "source": [
    "# spring_interior = extract_may_june_dataframes(wind_IntermontaneBoreal)\n",
    "# locations_dataframes = {'pafa': spring_interior['pafa'], 'pabi': spring_interior['pabi'], 'pabt': spring_interior['pabt']}\n",
    "# result = count_high_wind_by_year(locations_dataframes)\n",
    "# print(result)\n"
   ]
  },
  {
   "cell_type": "code",
   "execution_count": 10,
   "metadata": {},
   "outputs": [],
   "source": [
    "#interior_past_asos = spring_wind_by_region(\"Intermontane Boreal\", weather_stations, \"past_asos\")"
   ]
  },
  {
   "cell_type": "code",
   "execution_count": 11,
   "metadata": {},
   "outputs": [],
   "source": [
    "#interior_past_asos = interior_past_asos.set_index('year')\n"
   ]
  },
  {
   "cell_type": "code",
   "execution_count": 12,
   "metadata": {
    "scrolled": true
   },
   "outputs": [],
   "source": [
    "#interior_past_asos"
   ]
  },
  {
   "cell_type": "code",
   "execution_count": 13,
   "metadata": {},
   "outputs": [],
   "source": [
    "#interior_future_ncar = spring_wind_by_region(\"Intermontane Boreal\", weather_stations, \"future_wrf_ncar_ccsm4\")\n"
   ]
  },
  {
   "cell_type": "code",
   "execution_count": 14,
   "metadata": {},
   "outputs": [],
   "source": [
    "#interior_future_ncar['mean'] = interior_future_ncar.mean(axis=1)"
   ]
  },
  {
   "cell_type": "code",
   "execution_count": 15,
   "metadata": {},
   "outputs": [],
   "source": [
    "#interior_future_ncar[['mean']][50:]"
   ]
  },
  {
   "cell_type": "code",
   "execution_count": null,
   "metadata": {},
   "outputs": [],
   "source": []
  },
  {
   "cell_type": "code",
   "execution_count": 16,
   "metadata": {},
   "outputs": [],
   "source": [
    "# # ALASKA RANGE\n",
    "\n",
    "# ART_past_asos = spring_wind_by_region(\"Alaska Range Transition\", weather_stations, \"past_asos\").mean(axis=1)\n",
    "# ART_future_ncar = spring_wind_by_region(\"Alaska Range Transition\", weather_stations, \"future_wrf_ncar_ccsm4\").mean(axis=1)\n",
    "# ART_past_interim = spring_wind_by_region(\"Alaska Range Transition\", weather_stations, \"past_wrf_era_interim\").mean(axis=1)\n",
    "# ART_future_gfdl_cm3 = spring_wind_by_region(\"Alaska Range Transition\", weather_stations, \"future_wrf_gfdl_cm3\").mean(axis=1)"
   ]
  },
  {
   "cell_type": "code",
   "execution_count": 8,
   "metadata": {},
   "outputs": [],
   "source": [
    "# # ALEUTIAN MEADOWS\n",
    "\n",
    "#AM_past_asos = spring_wind_by_region(\"Aleutian Meadows\", weather_stations, \"past_asos\").mean(axis=1)\n",
    "#AM_future_ncar = spring_wind_by_region(\"Aleutian Meadows\", weather_stations, \"future_wrf_ncar_ccsm4\").mean(axis=1)\n",
    "#AM_past_interim = spring_wind_by_region(\"Aleutian Meadows\", weather_stations, \"past_wrf_era_interim\").mean(axis=1)\n",
    "#AM_future_gfdl_cm3 = spring_wind_by_region(\"Aleutian Meadows\", weather_stations, \"future_wrf_gfdl_cm3\").mean(axis=1)"
   ]
  },
  {
   "cell_type": "code",
   "execution_count": 11,
   "metadata": {},
   "outputs": [],
   "source": [
    "# # BERING TAIGA\n",
    "\n",
    "# BTa_past_asos = spring_wind_by_region(\"Bering Taiga\", weather_stations, \"past_asos\").mean(axis=1)\n",
    "# BTa_future_ncar = spring_wind_by_region(\"Bering Taiga\", weather_stations, \"future_wrf_ncar_ccsm4\").mean(axis=1)\n",
    "# BTa_past_interim = spring_wind_by_region(\"Bering Taiga\", weather_stations, \"past_wrf_era_interim\").mean(axis=1)\n",
    "# BTa_future_gfdl_cm3 = spring_wind_by_region(\"Bering Taiga\", weather_stations, \"future_wrf_gfdl_cm3\").mean(axis=1)"
   ]
  },
  {
   "cell_type": "code",
   "execution_count": 12,
   "metadata": {
    "collapsed": true
   },
   "outputs": [
    {
     "data": {
      "text/plain": [
       "0     836.714286\n",
       "1     894.857143\n",
       "2     922.142857\n",
       "3     850.142857\n",
       "4     673.375000\n",
       "5     633.250000\n",
       "6     697.375000\n",
       "7     614.875000\n",
       "8     593.375000\n",
       "9     688.250000\n",
       "10    617.875000\n",
       "11    743.875000\n",
       "12    792.571429\n",
       "13    829.625000\n",
       "14    755.375000\n",
       "15    765.250000\n",
       "16    766.000000\n",
       "17    696.500000\n",
       "18    779.875000\n",
       "19    703.625000\n",
       "20    635.875000\n",
       "21    667.375000\n",
       "22    754.500000\n",
       "23    754.375000\n",
       "24    758.375000\n",
       "25    747.625000\n",
       "26    801.750000\n",
       "27    682.250000\n",
       "28    758.250000\n",
       "29    793.750000\n",
       "30    744.875000\n",
       "31    724.000000\n",
       "32    738.875000\n",
       "33    786.000000\n",
       "34    792.750000\n",
       "dtype: float64"
      ]
     },
     "execution_count": 12,
     "metadata": {},
     "output_type": "execute_result"
    }
   ],
   "source": [
    "BTa_past_asos"
   ]
  },
  {
   "cell_type": "code",
   "execution_count": 13,
   "metadata": {
    "collapsed": true
   },
   "outputs": [
    {
     "data": {
      "text/plain": [
       "0     856.375\n",
       "1     776.625\n",
       "2     773.500\n",
       "3     722.625\n",
       "4     665.500\n",
       "5     751.125\n",
       "6     915.375\n",
       "7     832.625\n",
       "8     678.125\n",
       "9     802.500\n",
       "10    742.875\n",
       "11    818.000\n",
       "12    815.125\n",
       "13    794.375\n",
       "14    731.875\n",
       "15    775.250\n",
       "16    848.000\n",
       "17    674.250\n",
       "18    832.000\n",
       "19    688.625\n",
       "20    703.250\n",
       "21    832.625\n",
       "22    744.625\n",
       "23    738.375\n",
       "24    747.125\n",
       "25    706.750\n",
       "26    818.625\n",
       "27    671.625\n",
       "28    728.875\n",
       "29    780.625\n",
       "30    789.750\n",
       "31    797.125\n",
       "32    796.250\n",
       "33    789.750\n",
       "34    763.500\n",
       "dtype: float64"
      ]
     },
     "execution_count": 13,
     "metadata": {},
     "output_type": "execute_result"
    }
   ],
   "source": [
    "BTa_past_interim"
   ]
  },
  {
   "cell_type": "code",
   "execution_count": 14,
   "metadata": {
    "collapsed": true
   },
   "outputs": [
    {
     "data": {
      "text/plain": [
       "0     805.125\n",
       "1     698.000\n",
       "2     696.375\n",
       "3     646.000\n",
       "4     714.875\n",
       "5     769.250\n",
       "6     673.750\n",
       "7     707.375\n",
       "8     749.125\n",
       "9     712.250\n",
       "10    729.750\n",
       "11    688.500\n",
       "12    671.875\n",
       "13    728.125\n",
       "14    771.250\n",
       "15    759.375\n",
       "16    738.125\n",
       "17    816.500\n",
       "18    713.375\n",
       "19    889.875\n",
       "20    695.625\n",
       "21    613.375\n",
       "22    658.875\n",
       "23    845.500\n",
       "24    779.000\n",
       "25    780.625\n",
       "26    685.500\n",
       "27    819.750\n",
       "28    656.500\n",
       "29    858.250\n",
       "30    669.125\n",
       "31    740.125\n",
       "32    822.250\n",
       "33    696.875\n",
       "34    788.750\n",
       "35    946.625\n",
       "36    842.625\n",
       "37    687.625\n",
       "38    769.000\n",
       "39    753.125\n",
       "40    755.000\n",
       "41    794.875\n",
       "42    904.875\n",
       "43    590.875\n",
       "44    670.000\n",
       "45    787.250\n",
       "46    673.625\n",
       "47    782.500\n",
       "48    742.250\n",
       "49    571.125\n",
       "dtype: float64"
      ]
     },
     "execution_count": 14,
     "metadata": {},
     "output_type": "execute_result"
    }
   ],
   "source": [
    "BTa_future_ncar[0:50]"
   ]
  },
  {
   "cell_type": "code",
   "execution_count": 15,
   "metadata": {
    "collapsed": true
   },
   "outputs": [
    {
     "data": {
      "text/plain": [
       "50    722.875\n",
       "51    794.750\n",
       "52    773.875\n",
       "53    678.750\n",
       "54    699.250\n",
       "55    768.750\n",
       "56    720.375\n",
       "57    646.500\n",
       "58    678.625\n",
       "59    869.875\n",
       "60    741.125\n",
       "61    734.875\n",
       "62    664.125\n",
       "63    720.500\n",
       "64    771.875\n",
       "65    639.375\n",
       "66    792.125\n",
       "67    792.375\n",
       "68    747.500\n",
       "69    618.625\n",
       "70    894.875\n",
       "71    855.125\n",
       "72    692.375\n",
       "73    880.750\n",
       "74    643.500\n",
       "75    727.250\n",
       "76    775.375\n",
       "77    783.250\n",
       "78    653.250\n",
       "79    772.000\n",
       "80    697.750\n",
       "81    606.375\n",
       "82    719.125\n",
       "83    797.625\n",
       "84    694.375\n",
       "dtype: float64"
      ]
     },
     "execution_count": 15,
     "metadata": {},
     "output_type": "execute_result"
    }
   ],
   "source": [
    "BTa_future_ncar[50:]"
   ]
  },
  {
   "cell_type": "code",
   "execution_count": 16,
   "metadata": {
    "collapsed": true
   },
   "outputs": [
    {
     "data": {
      "text/plain": [
       "0     810.500\n",
       "1     578.750\n",
       "2     860.000\n",
       "3     706.250\n",
       "4     616.125\n",
       "5     768.000\n",
       "6     797.875\n",
       "7     847.000\n",
       "8     618.375\n",
       "9     654.500\n",
       "10    766.000\n",
       "11    601.875\n",
       "12    750.375\n",
       "13    800.500\n",
       "14    862.250\n",
       "15    736.125\n",
       "16    844.500\n",
       "17    730.625\n",
       "18    777.125\n",
       "19    761.625\n",
       "20    660.375\n",
       "21    619.375\n",
       "22    707.125\n",
       "23    814.375\n",
       "24    797.625\n",
       "25    666.625\n",
       "26    685.375\n",
       "27    786.250\n",
       "28    835.875\n",
       "29    668.125\n",
       "30    757.000\n",
       "31    696.125\n",
       "32    702.875\n",
       "33    776.125\n",
       "34    903.125\n",
       "35    729.250\n",
       "36    609.875\n",
       "37    688.250\n",
       "38    603.875\n",
       "39    758.250\n",
       "40    700.375\n",
       "41    769.625\n",
       "42    645.000\n",
       "43    683.500\n",
       "44    758.875\n",
       "45    598.250\n",
       "46    701.250\n",
       "47    793.000\n",
       "48    650.000\n",
       "49    846.500\n",
       "dtype: float64"
      ]
     },
     "execution_count": 16,
     "metadata": {},
     "output_type": "execute_result"
    }
   ],
   "source": [
    "BTa_future_gfdl_cm3[0:50]"
   ]
  },
  {
   "cell_type": "code",
   "execution_count": 17,
   "metadata": {
    "collapsed": true
   },
   "outputs": [
    {
     "data": {
      "text/plain": [
       "50    608.875\n",
       "51    836.000\n",
       "52    600.625\n",
       "53    659.250\n",
       "54    782.500\n",
       "55    657.750\n",
       "56    819.125\n",
       "57    633.125\n",
       "58    771.250\n",
       "59    726.375\n",
       "60    819.750\n",
       "61    705.000\n",
       "62    838.000\n",
       "63    866.000\n",
       "64    796.875\n",
       "65    693.500\n",
       "66    688.250\n",
       "67    570.500\n",
       "68    644.500\n",
       "69    717.625\n",
       "70    768.375\n",
       "71    751.000\n",
       "72    826.625\n",
       "73    848.000\n",
       "74    858.125\n",
       "75    767.500\n",
       "76    814.875\n",
       "77    619.625\n",
       "78    618.625\n",
       "79    629.625\n",
       "80    699.000\n",
       "81    679.125\n",
       "82    768.875\n",
       "83    653.000\n",
       "84    765.000\n",
       "dtype: float64"
      ]
     },
     "execution_count": 17,
     "metadata": {},
     "output_type": "execute_result"
    }
   ],
   "source": [
    "BTa_future_gfdl_cm3[50:]"
   ]
  },
  {
   "cell_type": "code",
   "execution_count": 18,
   "metadata": {},
   "outputs": [],
   "source": [
    "# # BERING TUNDRA\n",
    "\n",
    "# BTu_past_asos = spring_wind_by_region(\"Bering Tundra\", weather_stations, \"past_asos\").mean(axis=1)\n",
    "# BTu_future_ncar = spring_wind_by_region(\"Bering Tundra\", weather_stations, \"future_wrf_ncar_ccsm4\").mean(axis=1)\n",
    "# BTu_past_interim = spring_wind_by_region(\"Bering Tundra\", weather_stations, \"past_wrf_era_interim\").mean(axis=1)\n",
    "# BTu_future_gfdl_cm3 = spring_wind_by_region(\"Bering Tundra\", weather_stations, \"future_wrf_gfdl_cm3\").mean(axis=1)"
   ]
  },
  {
   "cell_type": "code",
   "execution_count": 19,
   "metadata": {
    "collapsed": true
   },
   "outputs": [
    {
     "data": {
      "text/plain": [
       "0     1127.00\n",
       "1     1059.25\n",
       "2     1077.25\n",
       "3     1161.00\n",
       "4      868.80\n",
       "5      746.20\n",
       "6      735.20\n",
       "7      727.80\n",
       "8      716.00\n",
       "9      671.60\n",
       "10     672.60\n",
       "11     842.00\n",
       "12     880.00\n",
       "13     787.40\n",
       "14     817.00\n",
       "15     865.00\n",
       "16    1001.40\n",
       "17     848.00\n",
       "18     881.60\n",
       "19     811.00\n",
       "20     827.00\n",
       "21     807.80\n",
       "22     988.00\n",
       "23     959.40\n",
       "24     973.80\n",
       "25     964.00\n",
       "26     919.60\n",
       "27     827.00\n",
       "28     810.80\n",
       "29     840.60\n",
       "30     884.60\n",
       "31     826.80\n",
       "32     744.60\n",
       "33     960.00\n",
       "34     765.60\n",
       "dtype: float64"
      ]
     },
     "execution_count": 19,
     "metadata": {},
     "output_type": "execute_result"
    }
   ],
   "source": [
    "BTu_past_asos"
   ]
  },
  {
   "cell_type": "code",
   "execution_count": 20,
   "metadata": {
    "collapsed": true
   },
   "outputs": [
    {
     "data": {
      "text/plain": [
       "0     869.0\n",
       "1     903.2\n",
       "2     895.2\n",
       "3     922.8\n",
       "4     830.2\n",
       "5     918.6\n",
       "6     853.2\n",
       "7     908.6\n",
       "8     872.0\n",
       "9     919.4\n",
       "10    823.4\n",
       "11    821.6\n",
       "12    862.0\n",
       "13    891.6\n",
       "14    852.6\n",
       "15    882.4\n",
       "16    939.4\n",
       "17    901.0\n",
       "18    896.8\n",
       "19    779.4\n",
       "20    848.8\n",
       "21    914.0\n",
       "22    921.8\n",
       "23    852.6\n",
       "24    857.0\n",
       "25    852.4\n",
       "26    864.0\n",
       "27    773.6\n",
       "28    750.8\n",
       "29    852.0\n",
       "30    822.0\n",
       "31    787.2\n",
       "32    880.2\n",
       "33    929.8\n",
       "34    918.0\n",
       "dtype: float64"
      ]
     },
     "execution_count": 20,
     "metadata": {},
     "output_type": "execute_result"
    }
   ],
   "source": [
    "BTu_past_interim"
   ]
  },
  {
   "cell_type": "code",
   "execution_count": 21,
   "metadata": {
    "collapsed": true
   },
   "outputs": [
    {
     "data": {
      "text/plain": [
       "0      905.8\n",
       "1      838.8\n",
       "2      828.8\n",
       "3      894.4\n",
       "4      830.4\n",
       "5      901.0\n",
       "6      847.6\n",
       "7      813.8\n",
       "8      950.0\n",
       "9      871.2\n",
       "10     779.4\n",
       "11     838.8\n",
       "12     812.8\n",
       "13     860.0\n",
       "14     901.4\n",
       "15     853.8\n",
       "16     935.4\n",
       "17     931.8\n",
       "18     909.2\n",
       "19    1044.4\n",
       "20     861.6\n",
       "21     782.6\n",
       "22     787.4\n",
       "23     922.8\n",
       "24     922.4\n",
       "25     989.0\n",
       "26     923.0\n",
       "27     973.6\n",
       "28     764.0\n",
       "29     920.0\n",
       "30     921.4\n",
       "31     909.8\n",
       "32    1020.0\n",
       "33     826.4\n",
       "34     947.6\n",
       "35    1092.4\n",
       "36     927.4\n",
       "37     809.4\n",
       "38     876.6\n",
       "39     792.0\n",
       "40     840.6\n",
       "41     904.2\n",
       "42    1140.2\n",
       "43     825.2\n",
       "44     855.6\n",
       "45     898.2\n",
       "46     831.6\n",
       "47     932.4\n",
       "48     849.0\n",
       "49     882.0\n",
       "dtype: float64"
      ]
     },
     "execution_count": 21,
     "metadata": {},
     "output_type": "execute_result"
    }
   ],
   "source": [
    "BTu_future_ncar[0:50]"
   ]
  },
  {
   "cell_type": "code",
   "execution_count": 22,
   "metadata": {
    "collapsed": true
   },
   "outputs": [
    {
     "data": {
      "text/plain": [
       "50     709.6\n",
       "51     872.8\n",
       "52    1002.0\n",
       "53     832.4\n",
       "54     825.2\n",
       "55     959.6\n",
       "56     946.4\n",
       "57     800.0\n",
       "58     846.4\n",
       "59     893.2\n",
       "60     867.6\n",
       "61     875.6\n",
       "62     801.4\n",
       "63     871.0\n",
       "64     942.8\n",
       "65     831.2\n",
       "66     956.0\n",
       "67     842.8\n",
       "68     924.4\n",
       "69     711.8\n",
       "70     934.8\n",
       "71     957.0\n",
       "72     841.6\n",
       "73     949.6\n",
       "74     844.4\n",
       "75     863.0\n",
       "76     905.8\n",
       "77     872.2\n",
       "78     826.6\n",
       "79     886.4\n",
       "80     960.2\n",
       "81     780.6\n",
       "82     924.2\n",
       "83     927.8\n",
       "84     900.8\n",
       "dtype: float64"
      ]
     },
     "execution_count": 22,
     "metadata": {},
     "output_type": "execute_result"
    }
   ],
   "source": [
    "BTu_future_ncar[50:]"
   ]
  },
  {
   "cell_type": "code",
   "execution_count": 23,
   "metadata": {
    "collapsed": true
   },
   "outputs": [
    {
     "data": {
      "text/plain": [
       "0     923.2\n",
       "1     804.6\n",
       "2     913.8\n",
       "3     856.4\n",
       "4     808.4\n",
       "5     847.8\n",
       "6     896.6\n",
       "7     892.8\n",
       "8     801.2\n",
       "9     692.8\n",
       "10    815.6\n",
       "11    808.6\n",
       "12    964.6\n",
       "13    920.4\n",
       "14    900.4\n",
       "15    839.8\n",
       "16    858.0\n",
       "17    861.2\n",
       "18    940.6\n",
       "19    939.8\n",
       "20    801.2\n",
       "21    884.4\n",
       "22    857.6\n",
       "23    852.4\n",
       "24    911.2\n",
       "25    813.6\n",
       "26    884.8\n",
       "27    846.0\n",
       "28    969.4\n",
       "29    878.4\n",
       "30    851.6\n",
       "31    761.0\n",
       "32    912.4\n",
       "33    886.8\n",
       "34    972.2\n",
       "35    804.8\n",
       "36    856.4\n",
       "37    956.8\n",
       "38    853.0\n",
       "39    869.4\n",
       "40    879.8\n",
       "41    924.4\n",
       "42    939.4\n",
       "43    833.6\n",
       "44    836.6\n",
       "45    826.2\n",
       "46    908.2\n",
       "47    893.6\n",
       "48    867.8\n",
       "49    972.8\n",
       "dtype: float64"
      ]
     },
     "execution_count": 23,
     "metadata": {},
     "output_type": "execute_result"
    }
   ],
   "source": [
    "BTu_future_gfdl_cm3[0:50]"
   ]
  },
  {
   "cell_type": "code",
   "execution_count": 24,
   "metadata": {
    "collapsed": true
   },
   "outputs": [
    {
     "data": {
      "text/plain": [
       "50    830.0\n",
       "51    894.2\n",
       "52    810.0\n",
       "53    830.4\n",
       "54    935.8\n",
       "55    901.6\n",
       "56    906.6\n",
       "57    859.6\n",
       "58    846.8\n",
       "59    903.2\n",
       "60    933.6\n",
       "61    897.0\n",
       "62    929.6\n",
       "63    901.0\n",
       "64    965.6\n",
       "65    913.2\n",
       "66    868.2\n",
       "67    825.4\n",
       "68    851.2\n",
       "69    788.2\n",
       "70    874.0\n",
       "71    918.2\n",
       "72    996.8\n",
       "73    946.4\n",
       "74    916.0\n",
       "75    812.6\n",
       "76    972.6\n",
       "77    806.4\n",
       "78    915.4\n",
       "79    888.4\n",
       "80    822.0\n",
       "81    938.4\n",
       "82    993.0\n",
       "83    844.2\n",
       "84    924.2\n",
       "dtype: float64"
      ]
     },
     "execution_count": 24,
     "metadata": {},
     "output_type": "execute_result"
    }
   ],
   "source": [
    "BTu_future_gfdl_cm3[50:]"
   ]
  },
  {
   "cell_type": "code",
   "execution_count": 25,
   "metadata": {},
   "outputs": [],
   "source": [
    "# #Coastal Rainforests\n",
    "\n",
    "# CR_past_asos = spring_wind_by_region(\"Coastal Rainforests\", weather_stations, \"past_asos\").mean(axis=1)\n",
    "# CR_future_ncar = spring_wind_by_region(\"Coastal Rainforests\", weather_stations, \"future_wrf_ncar_ccsm4\").mean(axis=1)\n",
    "# CR_past_interim = spring_wind_by_region(\"Coastal Rainforests\", weather_stations, \"past_wrf_era_interim\").mean(axis=1)\n",
    "# CR_future_gfdl_cm3 = spring_wind_by_region(\"Coastal Rainforests\", weather_stations, \"future_wrf_gfdl_cm3\").mean(axis=1)"
   ]
  },
  {
   "cell_type": "code",
   "execution_count": 26,
   "metadata": {
    "collapsed": true
   },
   "outputs": [
    {
     "data": {
      "text/plain": [
       "0     395.142857\n",
       "1     348.666667\n",
       "2     359.133333\n",
       "3     366.500000\n",
       "4     376.928571\n",
       "5     385.642857\n",
       "6     379.142857\n",
       "7     424.357143\n",
       "8     345.733333\n",
       "9     340.733333\n",
       "10    292.133333\n",
       "11    381.933333\n",
       "12    424.142857\n",
       "13    348.466667\n",
       "14    369.000000\n",
       "15    316.000000\n",
       "16    309.933333\n",
       "17    390.333333\n",
       "18    404.733333\n",
       "19    439.733333\n",
       "20    381.266667\n",
       "21    458.133333\n",
       "22    449.533333\n",
       "23    428.800000\n",
       "24    362.333333\n",
       "25    372.733333\n",
       "26    436.266667\n",
       "27    377.600000\n",
       "28    429.666667\n",
       "29    354.800000\n",
       "30    393.000000\n",
       "31    354.466667\n",
       "32    443.066667\n",
       "33    383.333333\n",
       "34    407.400000\n",
       "dtype: float64"
      ]
     },
     "execution_count": 26,
     "metadata": {},
     "output_type": "execute_result"
    }
   ],
   "source": [
    "CR_past_asos"
   ]
  },
  {
   "cell_type": "code",
   "execution_count": 27,
   "metadata": {
    "collapsed": true
   },
   "outputs": [
    {
     "data": {
      "text/plain": [
       "0     364.714286\n",
       "1     318.000000\n",
       "2     361.285714\n",
       "3     371.250000\n",
       "4     322.733333\n",
       "5     396.142857\n",
       "6     323.133333\n",
       "7     440.071429\n",
       "8     340.142857\n",
       "9     314.466667\n",
       "10    319.076923\n",
       "11    343.733333\n",
       "12    370.000000\n",
       "13    305.800000\n",
       "14    370.933333\n",
       "15    344.153846\n",
       "16    317.733333\n",
       "17    347.769231\n",
       "18    338.285714\n",
       "19    361.400000\n",
       "20    315.928571\n",
       "21    348.733333\n",
       "22    372.600000\n",
       "23    342.533333\n",
       "24    333.538462\n",
       "25    333.769231\n",
       "26    329.466667\n",
       "27    304.000000\n",
       "28    386.714286\n",
       "29    303.714286\n",
       "30    358.785714\n",
       "31    294.285714\n",
       "32    363.200000\n",
       "33    311.428571\n",
       "34    339.266667\n",
       "dtype: float64"
      ]
     },
     "execution_count": 27,
     "metadata": {},
     "output_type": "execute_result"
    }
   ],
   "source": [
    "CR_past_interim"
   ]
  },
  {
   "cell_type": "code",
   "execution_count": 28,
   "metadata": {
    "collapsed": true
   },
   "outputs": [
    {
     "data": {
      "text/plain": [
       "0     336.200000\n",
       "1     307.928571\n",
       "2     355.923077\n",
       "3     340.857143\n",
       "4     288.923077\n",
       "5     305.428571\n",
       "6     305.533333\n",
       "7     295.285714\n",
       "8     365.733333\n",
       "9     288.733333\n",
       "10    331.083333\n",
       "11    352.428571\n",
       "12    320.666667\n",
       "13    313.466667\n",
       "14    276.066667\n",
       "15    322.400000\n",
       "16    336.642857\n",
       "17    291.466667\n",
       "18    382.000000\n",
       "19    332.857143\n",
       "20    311.923077\n",
       "21    393.833333\n",
       "22    323.666667\n",
       "23    370.200000\n",
       "24    363.357143\n",
       "25    293.266667\n",
       "26    366.133333\n",
       "27    356.200000\n",
       "28    392.416667\n",
       "29    341.533333\n",
       "30    303.866667\n",
       "31    315.466667\n",
       "32    316.133333\n",
       "33    299.785714\n",
       "34    279.285714\n",
       "35    301.000000\n",
       "36    304.214286\n",
       "37    294.533333\n",
       "38    325.857143\n",
       "39    331.642857\n",
       "40    356.214286\n",
       "41    297.615385\n",
       "42    322.714286\n",
       "43    324.533333\n",
       "44    297.785714\n",
       "45    340.642857\n",
       "46    309.357143\n",
       "47    305.714286\n",
       "48    312.200000\n",
       "49    295.357143\n",
       "dtype: float64"
      ]
     },
     "execution_count": 28,
     "metadata": {},
     "output_type": "execute_result"
    }
   ],
   "source": [
    "CR_future_ncar[0:50]"
   ]
  },
  {
   "cell_type": "code",
   "execution_count": 29,
   "metadata": {
    "collapsed": true
   },
   "outputs": [
    {
     "data": {
      "text/plain": [
       "50    304.153846\n",
       "51    354.272727\n",
       "52    258.214286\n",
       "53    284.571429\n",
       "54    281.333333\n",
       "55    308.066667\n",
       "56    306.285714\n",
       "57    255.533333\n",
       "58    289.357143\n",
       "59    338.133333\n",
       "60    323.733333\n",
       "61    288.285714\n",
       "62    307.000000\n",
       "63    347.733333\n",
       "64    294.200000\n",
       "65    350.142857\n",
       "66    348.923077\n",
       "67    309.357143\n",
       "68    303.642857\n",
       "69    282.333333\n",
       "70    300.857143\n",
       "71    275.071429\n",
       "72    315.666667\n",
       "73    300.600000\n",
       "74    285.066667\n",
       "75    301.466667\n",
       "76    318.357143\n",
       "77    361.307692\n",
       "78    296.285714\n",
       "79    278.500000\n",
       "80    304.533333\n",
       "81    287.066667\n",
       "82    314.133333\n",
       "83    301.800000\n",
       "84    354.071429\n",
       "dtype: float64"
      ]
     },
     "execution_count": 29,
     "metadata": {},
     "output_type": "execute_result"
    }
   ],
   "source": [
    "CR_future_ncar[50:]"
   ]
  },
  {
   "cell_type": "code",
   "execution_count": 30,
   "metadata": {
    "collapsed": true
   },
   "outputs": [
    {
     "data": {
      "text/plain": [
       "0     361.928571\n",
       "1     343.000000\n",
       "2     313.214286\n",
       "3     306.066667\n",
       "4     334.416667\n",
       "5     326.133333\n",
       "6     355.714286\n",
       "7     360.500000\n",
       "8     295.133333\n",
       "9     295.933333\n",
       "10    344.800000\n",
       "11    334.916667\n",
       "12    333.833333\n",
       "13    312.666667\n",
       "14    346.923077\n",
       "15    287.933333\n",
       "16    292.071429\n",
       "17    271.600000\n",
       "18    340.000000\n",
       "19    365.800000\n",
       "20    369.090909\n",
       "21    277.428571\n",
       "22    264.928571\n",
       "23    350.500000\n",
       "24    306.857143\n",
       "25    359.166667\n",
       "26    271.714286\n",
       "27    325.857143\n",
       "28    320.214286\n",
       "29    287.500000\n",
       "30    332.928571\n",
       "31    314.769231\n",
       "32    298.357143\n",
       "33    329.384615\n",
       "34    311.142857\n",
       "35    278.933333\n",
       "36    264.714286\n",
       "37    293.133333\n",
       "38    300.384615\n",
       "39    316.071429\n",
       "40    292.142857\n",
       "41    321.153846\n",
       "42    282.466667\n",
       "43    255.933333\n",
       "44    274.933333\n",
       "45    251.066667\n",
       "46    269.461538\n",
       "47    258.500000\n",
       "48    285.538462\n",
       "49    309.357143\n",
       "dtype: float64"
      ]
     },
     "execution_count": 30,
     "metadata": {},
     "output_type": "execute_result"
    }
   ],
   "source": [
    "CR_future_gfdl_cm3[0:50]"
   ]
  },
  {
   "cell_type": "code",
   "execution_count": 31,
   "metadata": {
    "collapsed": true
   },
   "outputs": [
    {
     "data": {
      "text/plain": [
       "50    298.083333\n",
       "51    291.133333\n",
       "52    246.214286\n",
       "53    295.666667\n",
       "54    307.428571\n",
       "55    296.692308\n",
       "56    278.214286\n",
       "57    323.333333\n",
       "58    313.357143\n",
       "59    281.333333\n",
       "60    280.928571\n",
       "61    310.076923\n",
       "62    272.615385\n",
       "63    313.846154\n",
       "64    297.583333\n",
       "65    302.142857\n",
       "66    299.357143\n",
       "67    218.928571\n",
       "68    268.266667\n",
       "69    251.333333\n",
       "70    291.600000\n",
       "71    286.857143\n",
       "72    274.785714\n",
       "73    279.533333\n",
       "74    290.857143\n",
       "75    271.800000\n",
       "76    284.714286\n",
       "77    261.000000\n",
       "78    282.928571\n",
       "79    268.357143\n",
       "80    292.307692\n",
       "81    312.384615\n",
       "82    272.933333\n",
       "83    257.916667\n",
       "84    268.714286\n",
       "dtype: float64"
      ]
     },
     "execution_count": 31,
     "metadata": {},
     "output_type": "execute_result"
    }
   ],
   "source": [
    "CR_future_gfdl_cm3[50:]"
   ]
  },
  {
   "cell_type": "code",
   "execution_count": 32,
   "metadata": {},
   "outputs": [],
   "source": [
    "# #Copper River & Wrangell Mountains\n",
    "\n",
    "# CRWM_past_asos = spring_wind_by_region(\"Copper River & Wrangell Mountains\", weather_stations, \"past_asos\").mean(axis=1)\n",
    "# CRWM_future_ncar = spring_wind_by_region(\"Copper River & Wrangell Mountains\", weather_stations, \"future_wrf_ncar_ccsm4\").mean(axis=1)\n",
    "# CRWM_past_interim = spring_wind_by_region(\"Copper River & Wrangell Mountains\", weather_stations, \"past_wrf_era_interim\").mean(axis=1)\n",
    "# CRWM_future_gfdl_cm3 = spring_wind_by_region(\"Copper River & Wrangell Mountains\", weather_stations, \"future_wrf_gfdl_cm3\").mean(axis=1)"
   ]
  },
  {
   "cell_type": "code",
   "execution_count": 33,
   "metadata": {
    "collapsed": true
   },
   "outputs": [
    {
     "data": {
      "text/plain": [
       "0     641.000000\n",
       "1     609.250000\n",
       "2     629.750000\n",
       "3     785.333333\n",
       "4     572.250000\n",
       "5     623.250000\n",
       "6     643.750000\n",
       "7     688.500000\n",
       "8     620.250000\n",
       "9     625.750000\n",
       "10    611.250000\n",
       "11    619.000000\n",
       "12    635.000000\n",
       "13    616.750000\n",
       "14    664.500000\n",
       "15    635.750000\n",
       "16    629.750000\n",
       "17    653.500000\n",
       "18    678.000000\n",
       "19    639.750000\n",
       "20    613.000000\n",
       "21    651.750000\n",
       "22    670.000000\n",
       "23    664.250000\n",
       "24    611.500000\n",
       "25    605.000000\n",
       "26    674.750000\n",
       "27    631.250000\n",
       "28    631.250000\n",
       "29    612.000000\n",
       "30    621.000000\n",
       "31    615.000000\n",
       "32    798.666667\n",
       "33    789.666667\n",
       "34    856.000000\n",
       "dtype: float64"
      ]
     },
     "execution_count": 33,
     "metadata": {},
     "output_type": "execute_result"
    }
   ],
   "source": [
    "CRWM_past_asos"
   ]
  },
  {
   "cell_type": "code",
   "execution_count": 34,
   "metadata": {
    "collapsed": true
   },
   "outputs": [
    {
     "data": {
      "text/plain": [
       "0     869.333333\n",
       "1     805.000000\n",
       "2     815.000000\n",
       "3     793.000000\n",
       "4     746.333333\n",
       "5     837.666667\n",
       "6     609.250000\n",
       "7     637.750000\n",
       "8     796.333333\n",
       "9     822.000000\n",
       "10    772.333333\n",
       "11    580.250000\n",
       "12    639.250000\n",
       "13    767.000000\n",
       "14    880.666667\n",
       "15    832.333333\n",
       "16    612.500000\n",
       "17    816.333333\n",
       "18    852.000000\n",
       "19    615.500000\n",
       "20    597.500000\n",
       "21    591.500000\n",
       "22    851.333333\n",
       "23    810.333333\n",
       "24    793.333333\n",
       "25    754.333333\n",
       "26    642.750000\n",
       "27    826.333333\n",
       "28    835.333333\n",
       "29    828.666667\n",
       "30    844.666667\n",
       "31    661.750000\n",
       "32    846.333333\n",
       "33    765.000000\n",
       "34    680.000000\n",
       "dtype: float64"
      ]
     },
     "execution_count": 34,
     "metadata": {},
     "output_type": "execute_result"
    }
   ],
   "source": [
    "CRWM_past_interim"
   ]
  },
  {
   "cell_type": "code",
   "execution_count": 35,
   "metadata": {
    "collapsed": true
   },
   "outputs": [
    {
     "data": {
      "text/plain": [
       "0     703.000000\n",
       "1     742.000000\n",
       "2     782.333333\n",
       "3     735.333333\n",
       "4     742.000000\n",
       "5     679.500000\n",
       "6     763.333333\n",
       "7     765.666667\n",
       "8     766.666667\n",
       "9     763.666667\n",
       "10    771.333333\n",
       "11    698.666667\n",
       "12    586.750000\n",
       "13    728.666667\n",
       "14    705.666667\n",
       "15    774.000000\n",
       "16    560.250000\n",
       "17    755.000000\n",
       "18    586.500000\n",
       "19    772.666667\n",
       "20    760.666667\n",
       "21    727.333333\n",
       "22    712.333333\n",
       "23    621.000000\n",
       "24    583.250000\n",
       "25    755.333333\n",
       "26    840.666667\n",
       "27    813.000000\n",
       "28    723.000000\n",
       "29    642.000000\n",
       "30    767.666667\n",
       "31    782.333333\n",
       "32    766.333333\n",
       "33    717.000000\n",
       "34    750.666667\n",
       "35    795.000000\n",
       "36    599.250000\n",
       "37    755.666667\n",
       "38    600.250000\n",
       "39    789.666667\n",
       "40    584.500000\n",
       "41    731.666667\n",
       "42    858.000000\n",
       "43    759.666667\n",
       "44    726.666667\n",
       "45    797.666667\n",
       "46    822.666667\n",
       "47    839.000000\n",
       "48    798.000000\n",
       "49    771.666667\n",
       "dtype: float64"
      ]
     },
     "execution_count": 35,
     "metadata": {},
     "output_type": "execute_result"
    }
   ],
   "source": [
    "CRWM_future_ncar[0:50]"
   ]
  },
  {
   "cell_type": "code",
   "execution_count": 36,
   "metadata": {
    "collapsed": true
   },
   "outputs": [
    {
     "data": {
      "text/plain": [
       "50    761.333333\n",
       "51    759.000000\n",
       "52    758.000000\n",
       "53    769.333333\n",
       "54    591.500000\n",
       "55    566.500000\n",
       "56    782.333333\n",
       "57    766.666667\n",
       "58    564.500000\n",
       "59    895.000000\n",
       "60    578.500000\n",
       "61    587.250000\n",
       "62    572.750000\n",
       "63    850.000000\n",
       "64    772.000000\n",
       "65    773.000000\n",
       "66    765.000000\n",
       "67    576.250000\n",
       "68    829.666667\n",
       "69    747.333333\n",
       "70    767.666667\n",
       "71    822.666667\n",
       "72    602.750000\n",
       "73    829.333333\n",
       "74    584.500000\n",
       "75    560.000000\n",
       "76    798.666667\n",
       "77    875.666667\n",
       "78    563.750000\n",
       "79    851.333333\n",
       "80    801.000000\n",
       "81    745.333333\n",
       "82    724.666667\n",
       "83    825.000000\n",
       "84    801.666667\n",
       "dtype: float64"
      ]
     },
     "execution_count": 36,
     "metadata": {},
     "output_type": "execute_result"
    }
   ],
   "source": [
    "CRWM_future_ncar[50:]"
   ]
  },
  {
   "cell_type": "code",
   "execution_count": 37,
   "metadata": {
    "collapsed": true
   },
   "outputs": [
    {
     "data": {
      "text/plain": [
       "0     730.000000\n",
       "1     704.666667\n",
       "2     751.666667\n",
       "3     570.250000\n",
       "4     683.333333\n",
       "5     599.000000\n",
       "6     609.000000\n",
       "7     551.000000\n",
       "8     740.666667\n",
       "9     550.000000\n",
       "10    742.333333\n",
       "11    731.000000\n",
       "12    744.666667\n",
       "13    575.000000\n",
       "14    759.000000\n",
       "15    581.250000\n",
       "16    559.500000\n",
       "17    781.000000\n",
       "18    599.500000\n",
       "19    587.500000\n",
       "20    712.000000\n",
       "21    573.000000\n",
       "22    754.000000\n",
       "23    817.000000\n",
       "24    786.666667\n",
       "25    728.666667\n",
       "26    766.000000\n",
       "27    743.000000\n",
       "28    824.333333\n",
       "29    795.666667\n",
       "30    790.000000\n",
       "31    739.333333\n",
       "32    572.500000\n",
       "33    790.333333\n",
       "34    680.750000\n",
       "35    761.333333\n",
       "36    767.333333\n",
       "37    605.000000\n",
       "38    587.000000\n",
       "39    744.000000\n",
       "40    725.333333\n",
       "41    790.333333\n",
       "42    793.666667\n",
       "43    777.333333\n",
       "44    794.666667\n",
       "45    589.750000\n",
       "46    771.666667\n",
       "47    593.750000\n",
       "48    779.333333\n",
       "49    613.500000\n",
       "dtype: float64"
      ]
     },
     "execution_count": 37,
     "metadata": {},
     "output_type": "execute_result"
    }
   ],
   "source": [
    "CRWM_future_gfdl_cm3[0:50]"
   ]
  },
  {
   "cell_type": "code",
   "execution_count": 38,
   "metadata": {
    "collapsed": true
   },
   "outputs": [
    {
     "data": {
      "text/plain": [
       "50    761.333333\n",
       "51    849.333333\n",
       "52    601.000000\n",
       "53    604.500000\n",
       "54    804.666667\n",
       "55    568.000000\n",
       "56    831.000000\n",
       "57    781.666667\n",
       "58    775.000000\n",
       "59    793.666667\n",
       "60    807.333333\n",
       "61    804.000000\n",
       "62    793.333333\n",
       "63    805.333333\n",
       "64    836.666667\n",
       "65    793.333333\n",
       "66    797.666667\n",
       "67    775.333333\n",
       "68    659.500000\n",
       "69    576.500000\n",
       "70    598.750000\n",
       "71    824.000000\n",
       "72    781.333333\n",
       "73    610.750000\n",
       "74    852.000000\n",
       "75    587.250000\n",
       "76    642.250000\n",
       "77    800.000000\n",
       "78    855.000000\n",
       "79    572.000000\n",
       "80    785.000000\n",
       "81    773.000000\n",
       "82    823.000000\n",
       "83    774.333333\n",
       "84    838.333333\n",
       "dtype: float64"
      ]
     },
     "execution_count": 38,
     "metadata": {},
     "output_type": "execute_result"
    }
   ],
   "source": [
    "CRWM_future_gfdl_cm3[50:]"
   ]
  },
  {
   "cell_type": "code",
   "execution_count": null,
   "metadata": {},
   "outputs": [],
   "source": [
    "#NORTH SLOPE\n",
    "\n",
    "#NS_past_asos = spring_wind_by_region(\"North Slope\", weather_stations, \"past_asos\").mean(axis=1)\n",
    "#NS_future_ncar = spring_wind_by_region(\"North Slope\", weather_stations, \"future_wrf_ncar_ccsm4\").mean(axis=1)\n",
    "#NS_past_interim = spring_wind_by_region(\"North Slope\", weather_stations, \"past_wrf_era_interim\").mean(axis=1)\n",
    "#NS_future_gfdl_cm3 = spring_wind_by_region(\"North Slope\", weather_stations, \"future_wrf_gfdl_cm3\").mean(axis=1)"
   ]
  }
 ],
 "metadata": {
  "kernelspec": {
   "display_name": "Python 3",
   "language": "python",
   "name": "python3"
  },
  "language_info": {
   "codemirror_mode": {
    "name": "ipython",
    "version": 3
   },
   "file_extension": ".py",
   "mimetype": "text/x-python",
   "name": "python",
   "nbconvert_exporter": "python",
   "pygments_lexer": "ipython3",
   "version": "3.8.5"
  }
 },
 "nbformat": 4,
 "nbformat_minor": 4
}
