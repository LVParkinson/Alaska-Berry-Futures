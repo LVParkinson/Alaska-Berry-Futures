{
 "cells": [
  {
   "cell_type": "markdown",
   "metadata": {},
   "source": [
    "## Alaska Berry Futures\n",
    "### Wind speed and pollinators\n",
    "\n",
    "February 16, 2023    \n",
    "Using SNAP wind models to investigate how wind speed my affect pollinator movements in AK's future    "
   ]
  },
  {
   "cell_type": "code",
   "execution_count": 1,
   "metadata": {},
   "outputs": [],
   "source": [
    "import requests\n",
    "import csv\n",
    "import requests\n",
    "import pandas as pd\n",
    "import os\n",
    "from io import StringIO"
   ]
  },
  {
   "cell_type": "code",
   "execution_count": 2,
   "metadata": {
    "scrolled": true
   },
   "outputs": [
    {
     "name": "stdout",
     "output_type": "stream",
     "text": [
      "region\n",
      "Alaska Range Transition              [paaq, paed, paen, paho, pail, pamr, panc, pas...\n",
      "Aleutian Meadows                      [pacd, padk, padq, padu, paph, pasd, pasn, pasy]\n",
      "Bering Taiga                                [pabe, pacz, padl, paeh, pakn, pasm, paun]\n",
      "Bering Tundra                                                 [paom, paot, pash, patc]\n",
      "Coastal Rainforests                  [pacv, pael, pags, pagy, pajn, pakt, pamd, pan...\n",
      "Copper River & Wrangell Mountains                                   [padt, pagk, pamx]\n",
      "Intermontane Boreal                  [pabi, pabt, paei, pafa, paga, paim, pamc, pam...\n",
      "North Slope                                             [paba, pabr, pafb, palu, pasc]\n",
      "Name: icao_code, dtype: object\n"
     ]
    }
   ],
   "source": [
    "working_directory = os.getcwd()\n",
    "weather_stations =  pd.read_csv(working_directory + \"\\\\SNAPwind_location_lookup_table-1.csv\")\n",
    "\n",
    "# Group the dataframe by the 'region' column, and get the unique values of 'icao_code' for each group\n",
    "# save the codes as lowercase so it matches the csv names on the SNAP website\n",
    "icao_codes_by_region = weather_stations.groupby('region')['icao_code'].apply(lambda x: x.str.lower().unique())\n",
    "\n",
    "# Print the resulting dictionary of icao_codes by region\n",
    "print(icao_codes_by_region)\n"
   ]
  },
  {
   "cell_type": "code",
   "execution_count": 3,
   "metadata": {},
   "outputs": [],
   "source": [
    "def download_csv(url):\n",
    "    \"\"\"\n",
    "    Downloads a CSV file from a URL and returns its contents as a Pandas DataFrame.\n",
    "\n",
    "    :param url: The URL of the CSV file to download.\n",
    "    :return: A Pandas DataFrame containing the contents of the CSV file.\n",
    "    \"\"\"\n",
    "    # Send a GET request to the URL\n",
    "    response = requests.get(url)\n",
    "\n",
    "    # Check if the request was successful\n",
    "    # Print an error message if the request failed\n",
    "    if response.status_code != 200:\n",
    "        raise ValueError(f\"Failed to download CSV from {url}. Status code: {response.status_code}\")\n",
    "        \n",
    "    # Load the content of the response into a Pandas DataFrame\n",
    "    content = response.content.decode('utf-8')\n",
    "    data = pd.read_csv(StringIO(content))\n",
    "    \n",
    "    # Return the parsed data\n",
    "    return data\n"
   ]
  },
  {
   "cell_type": "code",
   "execution_count": 4,
   "metadata": {},
   "outputs": [],
   "source": [
    "def download_csvs_for_locations(regions, model):\n",
    "    \"\"\"\n",
    "    Download CSV data for multiple regions.\n",
    "\n",
    "    Args:\n",
    "        regions (list): A list of region names to download CSV data for.\n",
    "\n",
    "    Returns:\n",
    "        dict: A dictionary containing a Pandas DataFrame for each location.\n",
    "              The location name is used as the key in the dictionary.\n",
    "    \"\"\"\n",
    "    # URL format string\n",
    "    url_format = {\n",
    "        'past_asos': 'http://data.snap.uaf.edu/data/Base/AK_WRF/Historical_Projected_Hourly_Winds_1980_2099/asos/wind_hourly_asos_{}_1980-2015.csv',\n",
    "        'past_wrf_era_interim': 'http://data.snap.uaf.edu/data/Base/AK_WRF/Historical_Projected_Hourly_Winds_1980_2099/wrf/wind_hourly_wrf_era_interim_{}_1980-2014.csv',\n",
    "        'future_wrf_gfdl_cm3': 'http://data.snap.uaf.edu/data/Base/AK_WRF/Historical_Projected_Hourly_Winds_1980_2099/wrf/wind_hourly_wrf_gfdl_cm3_{}_2015-2099.csv',\n",
    "        'future_wrf_ncar_ccsm4': 'http://data.snap.uaf.edu/data/Base/AK_WRF/Historical_Projected_Hourly_Winds_1980_2099/wrf/wind_hourly_wrf_ncar_ccsm4_{}_2015-2099.csv'\n",
    "            }\n",
    "    \n",
    "    # Dictionary to store the data frames\n",
    "    data_frames = {}\n",
    "\n",
    "    # Loop over locations and download the CSV data\n",
    "    for region in regions:\n",
    "        url = url_format[model].format(region)\n",
    "        data = download_csv(url)\n",
    "\n",
    "        # Add the data frame to the dictionary using the location name as the key\n",
    "        data_frames[region] = data\n",
    "\n",
    "    # Return the dictionary of data frames\n",
    "    return data_frames"
   ]
  },
  {
   "cell_type": "code",
   "execution_count": 5,
   "metadata": {},
   "outputs": [],
   "source": [
    "def extract_may_june_dataframes(dataframes):\n",
    "    \"\"\"\n",
    "    Extracts the May/June data from a dictionary of location dataframes.\n",
    "\n",
    "    Args:\n",
    "    dataframes (dict): A dictionary of location dataframes, where the keys are location names and the values are dataframes.\n",
    "\n",
    "    Returns:\n",
    "    dict: A dictionary of location dataframes containing only the May/June data.\n",
    "    \"\"\"\n",
    "    output = {}\n",
    "    for location, df in dataframes.items():\n",
    "        # Convert the 'ts' column to a datetime object\n",
    "        df['ts'] = pd.to_datetime(df['ts'])\n",
    "        \n",
    "        # Select only the data from May and June\n",
    "        may_june_data = df.loc[(df['ts'].dt.month == 5) | (df['ts'].dt.month == 6)]\n",
    "        \n",
    "        # Store the May/June data in the output dictionary\n",
    "        output[location] = may_june_data\n",
    "    \n",
    "    return output\n"
   ]
  },
  {
   "cell_type": "code",
   "execution_count": 6,
   "metadata": {},
   "outputs": [],
   "source": [
    "def extract_jan_to_april_dataframes(dataframes):\n",
    "    \"\"\"\n",
    "    Extracts the May/June data from a dictionary of location dataframes.\n",
    "\n",
    "    Args:\n",
    "    dataframes (dict): A dictionary of location dataframes, where the keys are location names and the values are dataframes.\n",
    "\n",
    "    Returns:\n",
    "    dict: A dictionary of location dataframes containing only the May/June data.\n",
    "    \"\"\"\n",
    "    output = {}\n",
    "    for location, df in dataframes.items():\n",
    "        # Convert the 'ts' column to a datetime object\n",
    "        df['ts'] = pd.to_datetime(df['ts'])\n",
    "        \n",
    "        # Select only the data from May and June\n",
    "        jan_apr_data = df.loc[(df['ts'].dt.month == 1) | \n",
    "                               (df['ts'].dt.month == 2) |\n",
    "                               (df['ts'].dt.month == 3) |\n",
    "                               (df['ts'].dt.month == 4)]\n",
    "        \n",
    "        # Store the May/June data in the output dictionary\n",
    "        output[location] = jan_apr_data\n",
    "    \n",
    "    return output\n"
   ]
  },
  {
   "cell_type": "code",
   "execution_count": 7,
   "metadata": {},
   "outputs": [],
   "source": [
    "# spring_interior = extract_may_june_dataframes(wind_interior)\n",
    "# pafa = spring_interior['pafa']\n",
    "# pafa[(pafa['ws']>=10)].groupby(pafa['ts'].dt.year)['ts'].count()"
   ]
  },
  {
   "cell_type": "code",
   "execution_count": 8,
   "metadata": {},
   "outputs": [],
   "source": [
    "def count_high_wind_by_year(locations_dataframes):\n",
    "    result = pd.DataFrame()\n",
    "    \n",
    "    # Loop through each location dataframe\n",
    "    for location, df in locations_dataframes.items():\n",
    "        # Select only the data with wind speed >= 10\n",
    "        high_wind = df.loc[df['ws'] >= 10]\n",
    "        \n",
    "        # Group by year and count the number of rows\n",
    "        count_by_year = high_wind.groupby(high_wind['ts'].dt.year)['ts'].count()\n",
    "        \n",
    "        # Rename the count column to the location name\n",
    "        count_by_year = count_by_year.rename(location)\n",
    "        \n",
    "        # Merge the count column with the result dataframe\n",
    "        result = pd.concat([result, count_by_year], axis=1, sort=False)\n",
    "    \n",
    "    # Reset the index to be the year\n",
    "    result = result.reset_index()\n",
    "    \n",
    "    # Rename the index column to 'year'\n",
    "    result = result.rename(columns={'index': 'year'})\n",
    "    \n",
    "    return result\n"
   ]
  },
  {
   "cell_type": "code",
   "execution_count": 9,
   "metadata": {},
   "outputs": [],
   "source": [
    "def spring_wind_by_region(AKregion: str, weatherdf: pd.DataFrame, model: str) -> pd.DataFrame:\n",
    "    \"\"\"\n",
    "    Return a DataFrame with the count of high wind events for each location in a region during May and June\n",
    "    for each year in the dataset.\n",
    "    \n",
    "    Args:\n",
    "    - AKregion (str): the region for which to compute the wind counts\n",
    "    - weatherdf (pd.DataFrame): a DataFrame containing weather data for various locations and time periods\n",
    "    - model (str): one of four SNAP wind models: \n",
    "            past_asos, past_wrf_era_interim, future_wrf_gfdl_cm3, future_wrf_ncar_ccsm4\n",
    "    \n",
    "    Returns:\n",
    "    - pd.DataFrame: a DataFrame with the count of high wind events for each location in the region, by year\n",
    "    \n",
    "    \"\"\"\n",
    "    # group locations by region, convert to lowercase, and get unique codes\n",
    "    icao_codes_by_region = weatherdf.groupby('region')['icao_code'].apply(lambda x: x.str.lower().unique())\n",
    "    \n",
    "    # get list of locations within specified region\n",
    "    locations = icao_codes_by_region[AKregion]\n",
    "    \n",
    "    # download csvs for each location and get data for May and June only\n",
    "    spring_winds = extract_may_june_dataframes(download_csvs_for_locations(locations, model))\n",
    "    \n",
    "    # count the number of high wind events for each location, by year\n",
    "    location_spring_winds = count_high_wind_by_year(spring_winds)\n",
    "    \n",
    "    return location_spring_winds\n",
    "\n",
    "    "
   ]
  },
  {
   "cell_type": "code",
   "execution_count": 10,
   "metadata": {},
   "outputs": [],
   "source": [
    "def jan_apr_wind_by_region(AKregion: str, weatherdf: pd.DataFrame, model: str) -> pd.DataFrame:\n",
    "    \"\"\"\n",
    "    Return a DataFrame with the count of high wind events for each location in a region during May and June\n",
    "    for each year in the dataset.\n",
    "    \n",
    "    Args:\n",
    "    - AKregion (str): the region for which to compute the wind counts\n",
    "    - weatherdf (pd.DataFrame): a DataFrame containing weather data for various locations and time periods\n",
    "    - model (str): one of four SNAP wind models: \n",
    "            past_asos, past_wrf_era_interim, future_wrf_gfdl_cm3, future_wrf_ncar_ccsm4\n",
    "    \n",
    "    Returns:\n",
    "    - pd.DataFrame: a DataFrame with the count of high wind events for each location in the region, by year\n",
    "    \n",
    "    \"\"\"\n",
    "    # group locations by region, convert to lowercase, and get unique codes\n",
    "    icao_codes_by_region = weatherdf.groupby('region')['icao_code'].apply(lambda x: x.str.lower().unique())\n",
    "    \n",
    "    # get list of locations within specified region\n",
    "    locations = icao_codes_by_region[AKregion]\n",
    "    \n",
    "    # download csvs for each location and get data for May and June only\n",
    "    early_winds = extract_jan_to_april_dataframes(download_csvs_for_locations(locations, model))\n",
    "    \n",
    "    # count the number of high wind events for each location, by year\n",
    "    location_early_winds = count_high_wind_by_year(early_winds)\n",
    "    \n",
    "    return location_early_winds\n",
    "\n",
    "    "
   ]
  },
  {
   "cell_type": "code",
   "execution_count": 11,
   "metadata": {},
   "outputs": [],
   "source": [
    "# spring_interior = extract_may_june_dataframes(wind_IntermontaneBoreal)\n",
    "# locations_dataframes = {'pafa': spring_interior['pafa'], 'pabi': spring_interior['pabi'], 'pabt': spring_interior['pabt']}\n",
    "# result = count_high_wind_by_year(locations_dataframes)\n",
    "# print(result)\n"
   ]
  },
  {
   "cell_type": "code",
   "execution_count": 12,
   "metadata": {},
   "outputs": [],
   "source": [
    "#interior_past_asos = spring_wind_by_region(\"Intermontane Boreal\", weather_stations, \"past_asos\")"
   ]
  },
  {
   "cell_type": "code",
   "execution_count": 13,
   "metadata": {},
   "outputs": [],
   "source": [
    "#interior_past_asos = interior_past_asos.set_index('year')\n"
   ]
  },
  {
   "cell_type": "code",
   "execution_count": 14,
   "metadata": {
    "scrolled": true
   },
   "outputs": [],
   "source": [
    "#interior_past_asos"
   ]
  },
  {
   "cell_type": "code",
   "execution_count": 15,
   "metadata": {},
   "outputs": [],
   "source": [
    "#interior_future_ncar = spring_wind_by_region(\"Intermontane Boreal\", weather_stations, \"future_wrf_ncar_ccsm4\")\n"
   ]
  },
  {
   "cell_type": "code",
   "execution_count": 16,
   "metadata": {},
   "outputs": [],
   "source": [
    "#interior_future_ncar['mean'] = interior_future_ncar.mean(axis=1)"
   ]
  },
  {
   "cell_type": "code",
   "execution_count": 17,
   "metadata": {},
   "outputs": [],
   "source": [
    "#interior_future_ncar[['mean']][50:]"
   ]
  },
  {
   "cell_type": "markdown",
   "metadata": {},
   "source": [
    "## May and June winds"
   ]
  },
  {
   "cell_type": "code",
   "execution_count": 18,
   "metadata": {},
   "outputs": [],
   "source": [
    "# # ALASKA RANGE\n",
    "\n",
    "# ART_past_asos = spring_wind_by_region(\"Alaska Range Transition\", weather_stations, \"past_asos\").mean(axis=1)\n",
    "# ART_future_ncar = spring_wind_by_region(\"Alaska Range Transition\", weather_stations, \"future_wrf_ncar_ccsm4\").mean(axis=1)\n",
    "# ART_past_interim = spring_wind_by_region(\"Alaska Range Transition\", weather_stations, \"past_wrf_era_interim\").mean(axis=1)\n",
    "# ART_future_gfdl_cm3 = spring_wind_by_region(\"Alaska Range Transition\", weather_stations, \"future_wrf_gfdl_cm3\").mean(axis=1)"
   ]
  },
  {
   "cell_type": "code",
   "execution_count": 19,
   "metadata": {},
   "outputs": [],
   "source": [
    "# # ALEUTIAN MEADOWS\n",
    "\n",
    "#AM_past_asos = spring_wind_by_region(\"Aleutian Meadows\", weather_stations, \"past_asos\").mean(axis=1)\n",
    "#AM_future_ncar = spring_wind_by_region(\"Aleutian Meadows\", weather_stations, \"future_wrf_ncar_ccsm4\").mean(axis=1)\n",
    "#AM_past_interim = spring_wind_by_region(\"Aleutian Meadows\", weather_stations, \"past_wrf_era_interim\").mean(axis=1)\n",
    "#AM_future_gfdl_cm3 = spring_wind_by_region(\"Aleutian Meadows\", weather_stations, \"future_wrf_gfdl_cm3\").mean(axis=1)"
   ]
  },
  {
   "cell_type": "code",
   "execution_count": 20,
   "metadata": {},
   "outputs": [],
   "source": [
    "# # BERING TAIGA\n",
    "\n",
    "# BTa_past_asos = spring_wind_by_region(\"Bering Taiga\", weather_stations, \"past_asos\").mean(axis=1)\n",
    "# BTa_future_ncar = spring_wind_by_region(\"Bering Taiga\", weather_stations, \"future_wrf_ncar_ccsm4\").mean(axis=1)\n",
    "# BTa_past_interim = spring_wind_by_region(\"Bering Taiga\", weather_stations, \"past_wrf_era_interim\").mean(axis=1)\n",
    "# BTa_future_gfdl_cm3 = spring_wind_by_region(\"Bering Taiga\", weather_stations, \"future_wrf_gfdl_cm3\").mean(axis=1)"
   ]
  },
  {
   "cell_type": "code",
   "execution_count": 21,
   "metadata": {},
   "outputs": [],
   "source": [
    "# # BERING TUNDRA\n",
    "\n",
    "# BTu_past_asos = spring_wind_by_region(\"Bering Tundra\", weather_stations, \"past_asos\").mean(axis=1)\n",
    "# BTu_future_ncar = spring_wind_by_region(\"Bering Tundra\", weather_stations, \"future_wrf_ncar_ccsm4\").mean(axis=1)\n",
    "# BTu_past_interim = spring_wind_by_region(\"Bering Tundra\", weather_stations, \"past_wrf_era_interim\").mean(axis=1)\n",
    "# BTu_future_gfdl_cm3 = spring_wind_by_region(\"Bering Tundra\", weather_stations, \"future_wrf_gfdl_cm3\").mean(axis=1)"
   ]
  },
  {
   "cell_type": "code",
   "execution_count": 22,
   "metadata": {},
   "outputs": [],
   "source": [
    "# #Coastal Rainforests\n",
    "\n",
    "# CR_past_asos = spring_wind_by_region(\"Coastal Rainforests\", weather_stations, \"past_asos\").mean(axis=1)\n",
    "# CR_future_ncar = spring_wind_by_region(\"Coastal Rainforests\", weather_stations, \"future_wrf_ncar_ccsm4\").mean(axis=1)\n",
    "# CR_past_interim = spring_wind_by_region(\"Coastal Rainforests\", weather_stations, \"past_wrf_era_interim\").mean(axis=1)\n",
    "# CR_future_gfdl_cm3 = spring_wind_by_region(\"Coastal Rainforests\", weather_stations, \"future_wrf_gfdl_cm3\").mean(axis=1)"
   ]
  },
  {
   "cell_type": "code",
   "execution_count": 23,
   "metadata": {},
   "outputs": [],
   "source": [
    "# #Copper River & Wrangell Mountains\n",
    "\n",
    "# CRWM_past_asos = spring_wind_by_region(\"Copper River & Wrangell Mountains\", weather_stations, \"past_asos\").mean(axis=1)\n",
    "# CRWM_future_ncar = spring_wind_by_region(\"Copper River & Wrangell Mountains\", weather_stations, \"future_wrf_ncar_ccsm4\").mean(axis=1)\n",
    "# CRWM_past_interim = spring_wind_by_region(\"Copper River & Wrangell Mountains\", weather_stations, \"past_wrf_era_interim\").mean(axis=1)\n",
    "# CRWM_future_gfdl_cm3 = spring_wind_by_region(\"Copper River & Wrangell Mountains\", weather_stations, \"future_wrf_gfdl_cm3\").mean(axis=1)"
   ]
  },
  {
   "cell_type": "code",
   "execution_count": 24,
   "metadata": {},
   "outputs": [],
   "source": [
    "#NORTH SLOPE\n",
    "\n",
    "#NS_past_asos = spring_wind_by_region(\"North Slope\", weather_stations, \"past_asos\").mean(axis=1)\n",
    "#NS_future_ncar = spring_wind_by_region(\"North Slope\", weather_stations, \"future_wrf_ncar_ccsm4\").mean(axis=1)\n",
    "#NS_past_interim = spring_wind_by_region(\"North Slope\", weather_stations, \"past_wrf_era_interim\").mean(axis=1)\n",
    "#NS_future_gfdl_cm3 = spring_wind_by_region(\"North Slope\", weather_stations, \"future_wrf_gfdl_cm3\").mean(axis=1)"
   ]
  },
  {
   "cell_type": "markdown",
   "metadata": {},
   "source": [
    "## January through April winds"
   ]
  },
  {
   "cell_type": "code",
   "execution_count": 27,
   "metadata": {},
   "outputs": [],
   "source": [
    "# #NORTH SLOPE\n",
    "\n",
    "#NS_past_asos_early = jan_apr_wind_by_region(\"North Slope\", weather_stations, \"past_asos\").mean(axis=1)\n",
    "#NS_future_ncar_early = jan_apr_wind_by_region(\"North Slope\", weather_stations, \"future_wrf_ncar_ccsm4\").mean(axis=1)\n",
    "#NS_past_interim_early = jan_apr_wind_by_region(\"North Slope\", weather_stations, \"past_wrf_era_interim\").mean(axis=1)\n",
    "#NS_future_gfdl_cm3_early = jan_apr_wind_by_region(\"North Slope\", weather_stations, \"future_wrf_gfdl_cm3\").mean(axis=1)"
   ]
  },
  {
   "cell_type": "code",
   "execution_count": 26,
   "metadata": {
    "collapsed": true
   },
   "outputs": [
    {
     "data": {
      "text/plain": [
       "0     1558.666667\n",
       "1     1352.333333\n",
       "2     1480.333333\n",
       "3     1552.333333\n",
       "4     1482.500000\n",
       "5     1396.500000\n",
       "6     1298.500000\n",
       "7     1216.500000\n",
       "8     1266.166667\n",
       "9     1027.833333\n",
       "10     928.166667\n",
       "11    1171.400000\n",
       "12    1181.200000\n",
       "13    1435.166667\n",
       "14    1336.000000\n",
       "15    1337.500000\n",
       "16    1329.666667\n",
       "17    1328.000000\n",
       "18    1257.000000\n",
       "19    1242.166667\n",
       "20    1112.333333\n",
       "21    1057.333333\n",
       "22    1136.333333\n",
       "23    1235.000000\n",
       "24    1427.166667\n",
       "25    1368.833333\n",
       "26    1241.333333\n",
       "27    1314.333333\n",
       "28    1307.666667\n",
       "29    1408.500000\n",
       "30    1334.333333\n",
       "31    1344.833333\n",
       "32    1324.333333\n",
       "33    1367.666667\n",
       "34    1415.666667\n",
       "35     421.600000\n",
       "dtype: float64"
      ]
     },
     "execution_count": 26,
     "metadata": {},
     "output_type": "execute_result"
    }
   ],
   "source": [
    "NS_past_asos_early"
   ]
  },
  {
   "cell_type": "code",
   "execution_count": 28,
   "metadata": {
    "collapsed": true
   },
   "outputs": [
    {
     "data": {
      "text/plain": [
       "0     1733.833333\n",
       "1     1403.333333\n",
       "2     1592.666667\n",
       "3     1673.500000\n",
       "4     1407.500000\n",
       "5     1622.166667\n",
       "6     1499.666667\n",
       "7     1511.166667\n",
       "8     1479.166667\n",
       "9     1598.333333\n",
       "10    1432.500000\n",
       "11    1456.666667\n",
       "12    1434.666667\n",
       "13    1556.500000\n",
       "14    1562.666667\n",
       "15    1450.833333\n",
       "16    1466.000000\n",
       "17    1348.333333\n",
       "18    1437.666667\n",
       "19    1407.500000\n",
       "20    1608.333333\n",
       "21    1695.166667\n",
       "22    1503.666667\n",
       "23    1442.333333\n",
       "24    1717.666667\n",
       "25    1655.833333\n",
       "26    1488.166667\n",
       "27    1384.833333\n",
       "28    1489.166667\n",
       "29    1473.166667\n",
       "30    1523.333333\n",
       "31    1418.166667\n",
       "32    1523.166667\n",
       "33    1722.833333\n",
       "34    1445.666667\n",
       "dtype: float64"
      ]
     },
     "execution_count": 28,
     "metadata": {},
     "output_type": "execute_result"
    }
   ],
   "source": [
    "NS_past_interim_early"
   ]
  },
  {
   "cell_type": "code",
   "execution_count": 29,
   "metadata": {
    "collapsed": true
   },
   "outputs": [
    {
     "data": {
      "text/plain": [
       "0     1422.333333\n",
       "1     1645.833333\n",
       "2     1443.333333\n",
       "3     1601.333333\n",
       "4     1792.000000\n",
       "5     1461.666667\n",
       "6     1496.500000\n",
       "7     1597.833333\n",
       "8     1608.000000\n",
       "9     1684.500000\n",
       "10    1683.166667\n",
       "11    1600.500000\n",
       "12    1433.500000\n",
       "13    1602.166667\n",
       "14    1428.333333\n",
       "15    1766.833333\n",
       "16    1403.166667\n",
       "17    1478.000000\n",
       "18    1501.666667\n",
       "19    1667.333333\n",
       "20    1348.500000\n",
       "21    1717.333333\n",
       "22    1420.666667\n",
       "23    1386.166667\n",
       "24    1496.500000\n",
       "25    1303.833333\n",
       "26    1653.833333\n",
       "27    1456.833333\n",
       "28    1694.833333\n",
       "29    1556.500000\n",
       "30    1553.000000\n",
       "31    1571.333333\n",
       "32    1528.000000\n",
       "33    1531.500000\n",
       "34    1561.333333\n",
       "35    1507.833333\n",
       "36    1410.000000\n",
       "37    1712.333333\n",
       "38    1625.833333\n",
       "39    1704.333333\n",
       "40    1619.666667\n",
       "41    1651.833333\n",
       "42    1446.500000\n",
       "43    1500.833333\n",
       "44    1537.500000\n",
       "45    1543.500000\n",
       "46    1583.666667\n",
       "47    1607.333333\n",
       "48    1583.166667\n",
       "49    1508.166667\n",
       "dtype: float64"
      ]
     },
     "execution_count": 29,
     "metadata": {},
     "output_type": "execute_result"
    }
   ],
   "source": [
    "NS_future_ncar_early[0:50]"
   ]
  },
  {
   "cell_type": "code",
   "execution_count": 30,
   "metadata": {
    "collapsed": true
   },
   "outputs": [
    {
     "data": {
      "text/plain": [
       "50    1561.166667\n",
       "51    1481.666667\n",
       "52    1672.000000\n",
       "53    1661.500000\n",
       "54    1652.833333\n",
       "55    1623.833333\n",
       "56    1644.500000\n",
       "57    1503.500000\n",
       "58    1734.833333\n",
       "59    1871.333333\n",
       "60    1741.333333\n",
       "61    1536.833333\n",
       "62    1573.333333\n",
       "63    1533.166667\n",
       "64    1639.833333\n",
       "65    1786.500000\n",
       "66    1558.166667\n",
       "67    1529.166667\n",
       "68    1647.333333\n",
       "69    1475.000000\n",
       "70    1500.500000\n",
       "71    1630.166667\n",
       "72    1570.166667\n",
       "73    1559.333333\n",
       "74    1726.166667\n",
       "75    1628.666667\n",
       "76    1807.500000\n",
       "77    1705.166667\n",
       "78    1770.000000\n",
       "79    1575.666667\n",
       "80    1781.000000\n",
       "81    1671.666667\n",
       "82    1510.333333\n",
       "83    1846.333333\n",
       "84    1591.000000\n",
       "dtype: float64"
      ]
     },
     "execution_count": 30,
     "metadata": {},
     "output_type": "execute_result"
    }
   ],
   "source": [
    "NS_future_ncar_early[50:]"
   ]
  },
  {
   "cell_type": "code",
   "execution_count": 31,
   "metadata": {
    "collapsed": true
   },
   "outputs": [
    {
     "data": {
      "text/plain": [
       "0     1486.166667\n",
       "1     1437.000000\n",
       "2     1388.833333\n",
       "3     1505.333333\n",
       "4     1445.500000\n",
       "5     1389.500000\n",
       "6     1441.000000\n",
       "7     1519.666667\n",
       "8     1560.500000\n",
       "9     1459.333333\n",
       "10    1510.000000\n",
       "11    1591.666667\n",
       "12    1391.666667\n",
       "13    1353.666667\n",
       "14    1485.500000\n",
       "15    1323.666667\n",
       "16    1502.000000\n",
       "17    1588.166667\n",
       "18    1732.666667\n",
       "19    1465.500000\n",
       "20    1562.000000\n",
       "21    1712.833333\n",
       "22    1498.000000\n",
       "23    1476.833333\n",
       "24    1510.833333\n",
       "25    1466.166667\n",
       "26    1444.333333\n",
       "27    1333.666667\n",
       "28    1760.833333\n",
       "29    1708.666667\n",
       "30    1403.166667\n",
       "31    1574.500000\n",
       "32    1695.000000\n",
       "33    1506.333333\n",
       "34    1752.833333\n",
       "35    1620.833333\n",
       "36    1727.000000\n",
       "37    1585.000000\n",
       "38    1596.000000\n",
       "39    1640.500000\n",
       "40    1631.333333\n",
       "41    1813.166667\n",
       "42    1625.333333\n",
       "43    1586.333333\n",
       "44    1517.333333\n",
       "45    1778.833333\n",
       "46    1713.833333\n",
       "47    1667.666667\n",
       "48    1693.833333\n",
       "49    1719.166667\n",
       "dtype: float64"
      ]
     },
     "execution_count": 31,
     "metadata": {},
     "output_type": "execute_result"
    }
   ],
   "source": [
    "NS_future_gfdl_cm3_early[0:50]"
   ]
  },
  {
   "cell_type": "code",
   "execution_count": 32,
   "metadata": {
    "collapsed": true
   },
   "outputs": [
    {
     "data": {
      "text/plain": [
       "50    1680.333333\n",
       "51    1674.833333\n",
       "52    1690.166667\n",
       "53    1693.000000\n",
       "54    1538.166667\n",
       "55    1507.000000\n",
       "56    1687.000000\n",
       "57    1729.333333\n",
       "58    1691.000000\n",
       "59    1805.500000\n",
       "60    1801.000000\n",
       "61    1675.833333\n",
       "62    1631.000000\n",
       "63    1652.833333\n",
       "64    1764.333333\n",
       "65    1781.166667\n",
       "66    1793.833333\n",
       "67    1608.500000\n",
       "68    1812.833333\n",
       "69    1653.000000\n",
       "70    1696.166667\n",
       "71    1653.166667\n",
       "72    1791.833333\n",
       "73    1832.166667\n",
       "74    1609.666667\n",
       "75    1802.333333\n",
       "76    1613.166667\n",
       "77    1640.166667\n",
       "78    1718.166667\n",
       "79    1579.833333\n",
       "80    1558.000000\n",
       "81    1704.666667\n",
       "82    1736.833333\n",
       "83    1719.500000\n",
       "84    1635.000000\n",
       "dtype: float64"
      ]
     },
     "execution_count": 32,
     "metadata": {},
     "output_type": "execute_result"
    }
   ],
   "source": [
    "NS_future_gfdl_cm3_early[50:]"
   ]
  },
  {
   "cell_type": "code",
   "execution_count": 33,
   "metadata": {},
   "outputs": [],
   "source": [
    "# # BERING TUNDRA\n",
    "\n",
    "# BTu_past_asos_early = jan_apr_wind_by_region(\"Bering Tundra\", weather_stations, \"past_asos\").mean(axis=1)\n",
    "# BTu_future_ncar_early = jan_apr_wind_by_region(\"Bering Tundra\", weather_stations, \"future_wrf_ncar_ccsm4\").mean(axis=1)\n",
    "# BTu_past_interim_early = jan_apr_wind_by_region(\"Bering Tundra\", weather_stations, \"past_wrf_era_interim\").mean(axis=1)\n",
    "# BTu_future_gfdl_cm3_early = jan_apr_wind_by_region(\"Bering Tundra\", weather_stations, \"future_wrf_gfdl_cm3\").mean(axis=1)"
   ]
  },
  {
   "cell_type": "code",
   "execution_count": 34,
   "metadata": {
    "collapsed": true
   },
   "outputs": [
    {
     "data": {
      "text/plain": [
       "0     1788.0\n",
       "1     1813.5\n",
       "2     1757.5\n",
       "3     1708.5\n",
       "4     1446.8\n",
       "5     1038.8\n",
       "6      967.2\n",
       "7     1088.0\n",
       "8     1095.6\n",
       "9     1211.2\n",
       "10     854.2\n",
       "11    1262.4\n",
       "12    1257.0\n",
       "13    1411.0\n",
       "14    1504.0\n",
       "15    1348.0\n",
       "16    1563.6\n",
       "17    1145.6\n",
       "18    1380.0\n",
       "19    1464.6\n",
       "20    1503.0\n",
       "21    1510.4\n",
       "22    1514.0\n",
       "23    1516.4\n",
       "24    1754.4\n",
       "25    1518.6\n",
       "26    1600.2\n",
       "27    1551.6\n",
       "28    1493.0\n",
       "29    1411.2\n",
       "30    1429.8\n",
       "31    1511.2\n",
       "32    1375.0\n",
       "33    1576.6\n",
       "34    1321.6\n",
       "35     412.0\n",
       "dtype: float64"
      ]
     },
     "execution_count": 34,
     "metadata": {},
     "output_type": "execute_result"
    }
   ],
   "source": [
    "BTu_past_asos_early"
   ]
  },
  {
   "cell_type": "code",
   "execution_count": 35,
   "metadata": {
    "collapsed": true
   },
   "outputs": [
    {
     "data": {
      "text/plain": [
       "0     1735.4\n",
       "1     1695.4\n",
       "2     1790.6\n",
       "3     1621.4\n",
       "4     1640.2\n",
       "5     1620.4\n",
       "6     1619.6\n",
       "7     1722.6\n",
       "8     1880.6\n",
       "9     1813.6\n",
       "10    1407.2\n",
       "11    1743.8\n",
       "12    1469.6\n",
       "13    1585.6\n",
       "14    1786.6\n",
       "15    1625.8\n",
       "16    1727.4\n",
       "17    1518.8\n",
       "18    1734.4\n",
       "19    1603.8\n",
       "20    1742.0\n",
       "21    1878.0\n",
       "22    1752.6\n",
       "23    1597.8\n",
       "24    1860.8\n",
       "25    1855.0\n",
       "26    1917.8\n",
       "27    1730.6\n",
       "28    1824.4\n",
       "29    1714.8\n",
       "30    1630.0\n",
       "31    1619.6\n",
       "32    1488.8\n",
       "33    1679.2\n",
       "34    1755.2\n",
       "dtype: float64"
      ]
     },
     "execution_count": 35,
     "metadata": {},
     "output_type": "execute_result"
    }
   ],
   "source": [
    "BTu_past_interim_early"
   ]
  },
  {
   "cell_type": "code",
   "execution_count": 36,
   "metadata": {
    "collapsed": true
   },
   "outputs": [
    {
     "data": {
      "text/plain": [
       "0     1754.4\n",
       "1     1882.8\n",
       "2     1734.6\n",
       "3     1819.4\n",
       "4     1666.2\n",
       "5     1708.4\n",
       "6     1496.2\n",
       "7     1787.0\n",
       "8     1725.0\n",
       "9     1877.8\n",
       "10    1575.8\n",
       "11    1607.8\n",
       "12    1647.4\n",
       "13    1750.2\n",
       "14    1622.6\n",
       "15    1737.0\n",
       "16    1769.4\n",
       "17    1613.6\n",
       "18    1727.0\n",
       "19    1967.8\n",
       "20    1656.6\n",
       "21    1978.6\n",
       "22    1720.2\n",
       "23    1635.2\n",
       "24    1701.8\n",
       "25    1580.2\n",
       "26    1742.6\n",
       "27    1626.8\n",
       "28    2113.6\n",
       "29    1772.4\n",
       "30    1704.4\n",
       "31    1903.4\n",
       "32    1863.2\n",
       "33    1673.0\n",
       "34    1700.2\n",
       "35    1555.8\n",
       "36    1548.4\n",
       "37    2018.6\n",
       "38    1683.4\n",
       "39    1823.0\n",
       "40    1962.2\n",
       "41    1818.4\n",
       "42    1619.6\n",
       "43    1840.2\n",
       "44    1921.4\n",
       "45    1667.0\n",
       "46    2006.4\n",
       "47    2030.4\n",
       "48    1982.8\n",
       "49    1747.8\n",
       "dtype: float64"
      ]
     },
     "execution_count": 36,
     "metadata": {},
     "output_type": "execute_result"
    }
   ],
   "source": [
    "BTu_future_ncar_early[0:50]"
   ]
  },
  {
   "cell_type": "code",
   "execution_count": 37,
   "metadata": {
    "collapsed": true
   },
   "outputs": [
    {
     "data": {
      "text/plain": [
       "50    1621.8\n",
       "51    1747.8\n",
       "52    1819.6\n",
       "53    1979.8\n",
       "54    1935.6\n",
       "55    2072.6\n",
       "56    2188.4\n",
       "57    1697.4\n",
       "58    1872.6\n",
       "59    1928.0\n",
       "60    1915.2\n",
       "61    1762.6\n",
       "62    1808.6\n",
       "63    1865.8\n",
       "64    1986.6\n",
       "65    2033.6\n",
       "66    1868.2\n",
       "67    1546.6\n",
       "68    1701.2\n",
       "69    1955.6\n",
       "70    1874.8\n",
       "71    1701.8\n",
       "72    1951.0\n",
       "73    2143.2\n",
       "74    2030.4\n",
       "75    1829.0\n",
       "76    1936.4\n",
       "77    2115.0\n",
       "78    1797.6\n",
       "79    2030.0\n",
       "80    1976.0\n",
       "81    1941.0\n",
       "82    1794.4\n",
       "83    2056.0\n",
       "84    1807.8\n",
       "dtype: float64"
      ]
     },
     "execution_count": 37,
     "metadata": {},
     "output_type": "execute_result"
    }
   ],
   "source": [
    "BTu_future_ncar_early[50:]"
   ]
  },
  {
   "cell_type": "code",
   "execution_count": 38,
   "metadata": {
    "collapsed": true
   },
   "outputs": [
    {
     "data": {
      "text/plain": [
       "0     1702.0\n",
       "1     1731.4\n",
       "2     1828.4\n",
       "3     1733.8\n",
       "4     1938.2\n",
       "5     1611.2\n",
       "6     1539.8\n",
       "7     1842.0\n",
       "8     1784.0\n",
       "9     1706.6\n",
       "10    1587.8\n",
       "11    1811.6\n",
       "12    1766.0\n",
       "13    1540.4\n",
       "14    1811.4\n",
       "15    1670.8\n",
       "16    1760.0\n",
       "17    1792.2\n",
       "18    1905.8\n",
       "19    1793.6\n",
       "20    1693.0\n",
       "21    1853.8\n",
       "22    1846.2\n",
       "23    1807.2\n",
       "24    1839.6\n",
       "25    1698.2\n",
       "26    1607.4\n",
       "27    1725.0\n",
       "28    2014.2\n",
       "29    1817.0\n",
       "30    1888.8\n",
       "31    1861.4\n",
       "32    1919.6\n",
       "33    1773.0\n",
       "34    1880.4\n",
       "35    1904.2\n",
       "36    1959.4\n",
       "37    2002.4\n",
       "38    1812.0\n",
       "39    1820.4\n",
       "40    1849.8\n",
       "41    1795.8\n",
       "42    1918.6\n",
       "43    1821.6\n",
       "44    1842.0\n",
       "45    1869.6\n",
       "46    1831.0\n",
       "47    1984.0\n",
       "48    1924.0\n",
       "49    1759.2\n",
       "dtype: float64"
      ]
     },
     "execution_count": 38,
     "metadata": {},
     "output_type": "execute_result"
    }
   ],
   "source": [
    "BTu_future_gfdl_cm3_early[0:50]"
   ]
  },
  {
   "cell_type": "code",
   "execution_count": 39,
   "metadata": {
    "collapsed": true
   },
   "outputs": [
    {
     "data": {
      "text/plain": [
       "50    1702.8\n",
       "51    1831.0\n",
       "52    1933.6\n",
       "53    1986.0\n",
       "54    1925.6\n",
       "55    1849.0\n",
       "56    1916.0\n",
       "57    1933.4\n",
       "58    1996.2\n",
       "59    2168.8\n",
       "60    1935.8\n",
       "61    1861.4\n",
       "62    1922.0\n",
       "63    1984.6\n",
       "64    2010.4\n",
       "65    1957.0\n",
       "66    1931.2\n",
       "67    1868.0\n",
       "68    1958.0\n",
       "69    1881.4\n",
       "70    2025.6\n",
       "71    1913.4\n",
       "72    2057.6\n",
       "73    1950.4\n",
       "74    2038.4\n",
       "75    2041.4\n",
       "76    1957.0\n",
       "77    1720.8\n",
       "78    2024.4\n",
       "79    1919.4\n",
       "80    1946.8\n",
       "81    1770.2\n",
       "82    2111.4\n",
       "83    2041.4\n",
       "84    2148.6\n",
       "dtype: float64"
      ]
     },
     "execution_count": 39,
     "metadata": {},
     "output_type": "execute_result"
    }
   ],
   "source": [
    "BTu_future_gfdl_cm3_early[50:]"
   ]
  },
  {
   "cell_type": "code",
   "execution_count": 40,
   "metadata": {},
   "outputs": [],
   "source": [
    "# # BERING TAIGA\n",
    "\n",
    "# BTa_past_asos_early = jan_apr_wind_by_region(\"Bering Taiga\", weather_stations, \"past_asos\").mean(axis=1)\n",
    "# BTa_future_ncar_early = jan_apr_wind_by_region(\"Bering Taiga\", weather_stations, \"future_wrf_ncar_ccsm4\").mean(axis=1)\n",
    "# BTa_past_interim_early = jan_apr_wind_by_region(\"Bering Taiga\", weather_stations, \"past_wrf_era_interim\").mean(axis=1)\n",
    "# BTa_future_gfdl_cm3_early = jan_apr_wind_by_region(\"Bering Taiga\", weather_stations, \"future_wrf_gfdl_cm3\").mean(axis=1)"
   ]
  },
  {
   "cell_type": "code",
   "execution_count": 41,
   "metadata": {
    "collapsed": true
   },
   "outputs": [
    {
     "data": {
      "text/plain": [
       "0     1488.000000\n",
       "1     1765.285714\n",
       "2     1762.857143\n",
       "3     1701.000000\n",
       "4     1555.000000\n",
       "5     1275.625000\n",
       "6     1222.250000\n",
       "7     1205.125000\n",
       "8     1453.125000\n",
       "9     1219.750000\n",
       "10    1110.625000\n",
       "11    1155.500000\n",
       "12    1277.000000\n",
       "13    1662.375000\n",
       "14    1585.125000\n",
       "15    1495.250000\n",
       "16    1545.625000\n",
       "17    1380.750000\n",
       "18    1653.500000\n",
       "19    1474.000000\n",
       "20    1243.125000\n",
       "21    1364.375000\n",
       "22    1624.125000\n",
       "23    1735.125000\n",
       "24    1587.000000\n",
       "25    1633.375000\n",
       "26    1590.125000\n",
       "27    1482.500000\n",
       "28    1527.750000\n",
       "29    1541.250000\n",
       "30    1522.250000\n",
       "31    1579.250000\n",
       "32    1440.875000\n",
       "33    1624.875000\n",
       "34    1676.375000\n",
       "35     511.000000\n",
       "dtype: float64"
      ]
     },
     "execution_count": 41,
     "metadata": {},
     "output_type": "execute_result"
    }
   ],
   "source": [
    "BTa_past_asos_early"
   ]
  },
  {
   "cell_type": "code",
   "execution_count": 42,
   "metadata": {
    "collapsed": true
   },
   "outputs": [
    {
     "data": {
      "text/plain": [
       "0     1821.500\n",
       "1     1797.250\n",
       "2     1828.375\n",
       "3     1824.875\n",
       "4     1763.750\n",
       "5     1804.500\n",
       "6     1662.000\n",
       "7     1769.625\n",
       "8     1965.000\n",
       "9     1656.750\n",
       "10    1530.250\n",
       "11    1756.250\n",
       "12    1584.250\n",
       "13    1756.750\n",
       "14    1765.125\n",
       "15    1687.250\n",
       "16    1842.500\n",
       "17    1703.625\n",
       "18    1899.000\n",
       "19    1674.250\n",
       "20    1728.625\n",
       "21    1822.500\n",
       "22    1818.875\n",
       "23    1875.625\n",
       "24    1760.125\n",
       "25    1745.375\n",
       "26    1763.625\n",
       "27    1646.875\n",
       "28    1656.750\n",
       "29    1775.625\n",
       "30    1693.625\n",
       "31    1698.375\n",
       "32    1615.125\n",
       "33    1713.000\n",
       "34    1882.125\n",
       "dtype: float64"
      ]
     },
     "execution_count": 42,
     "metadata": {},
     "output_type": "execute_result"
    }
   ],
   "source": [
    "BTa_past_interim_early"
   ]
  },
  {
   "cell_type": "code",
   "execution_count": 43,
   "metadata": {
    "collapsed": true
   },
   "outputs": [
    {
     "data": {
      "text/plain": [
       "0     1934.250\n",
       "1     1848.750\n",
       "2     1831.250\n",
       "3     1762.125\n",
       "4     1782.375\n",
       "5     1767.500\n",
       "6     1684.125\n",
       "7     1854.500\n",
       "8     1789.125\n",
       "9     1985.125\n",
       "10    1837.000\n",
       "11    1705.375\n",
       "12    1746.000\n",
       "13    1847.875\n",
       "14    1692.250\n",
       "15    1808.625\n",
       "16    1821.250\n",
       "17    1807.875\n",
       "18    1854.375\n",
       "19    1879.375\n",
       "20    1769.625\n",
       "21    1817.625\n",
       "22    1632.750\n",
       "23    1766.000\n",
       "24    1813.375\n",
       "25    1616.250\n",
       "26    1691.000\n",
       "27    1776.250\n",
       "28    2040.625\n",
       "29    1769.875\n",
       "30    1849.500\n",
       "31    1884.000\n",
       "32    1717.250\n",
       "33    1803.750\n",
       "34    1696.000\n",
       "35    1843.500\n",
       "36    1594.000\n",
       "37    1905.125\n",
       "38    1757.625\n",
       "39    1851.375\n",
       "40    1971.375\n",
       "41    1900.000\n",
       "42    1663.000\n",
       "43    1809.250\n",
       "44    1825.500\n",
       "45    1760.875\n",
       "46    1929.000\n",
       "47    1929.500\n",
       "48    1884.250\n",
       "49    1817.375\n",
       "dtype: float64"
      ]
     },
     "execution_count": 43,
     "metadata": {},
     "output_type": "execute_result"
    }
   ],
   "source": [
    "BTa_future_ncar_early[0:50]"
   ]
  },
  {
   "cell_type": "code",
   "execution_count": 44,
   "metadata": {
    "collapsed": true
   },
   "outputs": [
    {
     "data": {
      "text/plain": [
       "50    1741.750\n",
       "51    1760.375\n",
       "52    1869.875\n",
       "53    2070.875\n",
       "54    1915.500\n",
       "55    1923.125\n",
       "56    1936.000\n",
       "57    1806.375\n",
       "58    1948.250\n",
       "59    1882.125\n",
       "60    2009.375\n",
       "61    1755.250\n",
       "62    1889.750\n",
       "63    1782.000\n",
       "64    1954.750\n",
       "65    1947.375\n",
       "66    1747.250\n",
       "67    1577.000\n",
       "68    1776.125\n",
       "69    1891.375\n",
       "70    1783.125\n",
       "71    1763.250\n",
       "72    1816.125\n",
       "73    1958.625\n",
       "74    1958.625\n",
       "75    1830.875\n",
       "76    1742.375\n",
       "77    2052.500\n",
       "78    1732.000\n",
       "79    1947.875\n",
       "80    1936.750\n",
       "81    1921.625\n",
       "82    1816.000\n",
       "83    2008.875\n",
       "84    1739.500\n",
       "dtype: float64"
      ]
     },
     "execution_count": 44,
     "metadata": {},
     "output_type": "execute_result"
    }
   ],
   "source": [
    "BTa_future_ncar_early[50:]"
   ]
  },
  {
   "cell_type": "code",
   "execution_count": 45,
   "metadata": {
    "collapsed": true
   },
   "outputs": [
    {
     "data": {
      "text/plain": [
       "0     1868.625\n",
       "1     1754.875\n",
       "2     1920.500\n",
       "3     1711.500\n",
       "4     1928.375\n",
       "5     1570.500\n",
       "6     1707.500\n",
       "7     1929.750\n",
       "8     1783.875\n",
       "9     1851.750\n",
       "10    1854.375\n",
       "11    1817.500\n",
       "12    1864.750\n",
       "13    1520.500\n",
       "14    1751.500\n",
       "15    1633.750\n",
       "16    1800.625\n",
       "17    1770.250\n",
       "18    1914.625\n",
       "19    1839.875\n",
       "20    1765.875\n",
       "21    1812.750\n",
       "22    1835.000\n",
       "23    1654.875\n",
       "24    1944.375\n",
       "25    1566.625\n",
       "26    1648.625\n",
       "27    1677.500\n",
       "28    1902.625\n",
       "29    1725.375\n",
       "30    1883.250\n",
       "31    1822.750\n",
       "32    1929.500\n",
       "33    1569.750\n",
       "34    1715.875\n",
       "35    1889.750\n",
       "36    1855.625\n",
       "37    2051.375\n",
       "38    1642.000\n",
       "39    1873.250\n",
       "40    1857.000\n",
       "41    1787.375\n",
       "42    1903.625\n",
       "43    1729.500\n",
       "44    1874.250\n",
       "45    1792.000\n",
       "46    1817.375\n",
       "47    1805.125\n",
       "48    1829.375\n",
       "49    1730.375\n",
       "dtype: float64"
      ]
     },
     "execution_count": 45,
     "metadata": {},
     "output_type": "execute_result"
    }
   ],
   "source": [
    "BTa_future_gfdl_cm3_early[0:50]"
   ]
  },
  {
   "cell_type": "code",
   "execution_count": 46,
   "metadata": {
    "collapsed": true
   },
   "outputs": [
    {
     "data": {
      "text/plain": [
       "50    1922.000\n",
       "51    1699.000\n",
       "52    1846.250\n",
       "53    1844.125\n",
       "54    1906.875\n",
       "55    1879.500\n",
       "56    1808.000\n",
       "57    2018.625\n",
       "58    1764.250\n",
       "59    1990.375\n",
       "60    1843.250\n",
       "61    1779.500\n",
       "62    1828.000\n",
       "63    1838.125\n",
       "64    1776.125\n",
       "65    1758.375\n",
       "66    1713.125\n",
       "67    1779.500\n",
       "68    1762.750\n",
       "69    1945.875\n",
       "70    2063.250\n",
       "71    1839.625\n",
       "72    1861.000\n",
       "73    1938.250\n",
       "74    1965.625\n",
       "75    1892.625\n",
       "76    1886.500\n",
       "77    1698.125\n",
       "78    1822.375\n",
       "79    1796.250\n",
       "80    1838.750\n",
       "81    1652.125\n",
       "82    1862.625\n",
       "83    2003.125\n",
       "84    2095.375\n",
       "dtype: float64"
      ]
     },
     "execution_count": 46,
     "metadata": {},
     "output_type": "execute_result"
    }
   ],
   "source": [
    "BTa_future_gfdl_cm3_early[50:]"
   ]
  },
  {
   "cell_type": "code",
   "execution_count": 47,
   "metadata": {},
   "outputs": [],
   "source": [
    "# INTERMONTANE BOREAL\n",
    "\n",
    "interior_past_asos_early = jan_apr_wind_by_region(\"Intermontane Boreal\", weather_stations, \"past_asos\").mean(axis=1)\n",
    "interior_future_ncar_early = jan_apr_wind_by_region(\"Intermontane Boreal\", weather_stations, \"future_wrf_ncar_ccsm4\").mean(axis=1)\n",
    "interior_past_interim_early = jan_apr_wind_by_region(\"Intermontane Boreal\", weather_stations, \"past_wrf_era_interim\").mean(axis=1)\n",
    "interior_future_gfdl_cm3_early = jan_apr_wind_by_region(\"Intermontane Boreal\", weather_stations, \"future_wrf_gfdl_cm3\").mean(axis=1)\n"
   ]
  },
  {
   "cell_type": "code",
   "execution_count": 48,
   "metadata": {
    "collapsed": true
   },
   "outputs": [
    {
     "data": {
      "text/plain": [
       "0     528.058824\n",
       "1     491.000000\n",
       "2     479.411765\n",
       "3     477.470588\n",
       "4     363.411765\n",
       "5     381.000000\n",
       "6     361.941176\n",
       "7     396.823529\n",
       "8     540.058824\n",
       "9     400.058824\n",
       "10    331.875000\n",
       "11    361.588235\n",
       "12    340.823529\n",
       "13    472.312500\n",
       "14    516.470588\n",
       "15    428.529412\n",
       "16    462.941176\n",
       "17    395.058824\n",
       "18    457.823529\n",
       "19    464.000000\n",
       "20    459.875000\n",
       "21    516.117647\n",
       "22    499.705882\n",
       "23    501.588235\n",
       "24    490.235294\n",
       "25    456.882353\n",
       "26    466.058824\n",
       "27    382.117647\n",
       "28    431.647059\n",
       "29    533.058824\n",
       "30    415.117647\n",
       "31    531.352941\n",
       "32    448.705882\n",
       "33    543.882353\n",
       "34    520.764706\n",
       "35    404.800000\n",
       "dtype: float64"
      ]
     },
     "execution_count": 48,
     "metadata": {},
     "output_type": "execute_result"
    }
   ],
   "source": [
    "interior_past_asos_early"
   ]
  },
  {
   "cell_type": "code",
   "execution_count": 49,
   "metadata": {
    "collapsed": true
   },
   "outputs": [
    {
     "data": {
      "text/plain": [
       "0     634.588235\n",
       "1     557.647059\n",
       "2     558.882353\n",
       "3     584.411765\n",
       "4     512.058824\n",
       "5     479.117647\n",
       "6     479.176471\n",
       "7     499.882353\n",
       "8     638.529412\n",
       "9     462.470588\n",
       "10    387.294118\n",
       "11    541.176471\n",
       "12    486.058824\n",
       "13    470.352941\n",
       "14    609.058824\n",
       "15    425.529412\n",
       "16    490.235294\n",
       "17    473.941176\n",
       "18    484.000000\n",
       "19    505.176471\n",
       "20    553.411765\n",
       "21    574.764706\n",
       "22    483.235294\n",
       "23    427.058824\n",
       "24    579.647059\n",
       "25    506.000000\n",
       "26    512.470588\n",
       "27    471.294118\n",
       "28    576.470588\n",
       "29    593.411765\n",
       "30    528.705882\n",
       "31    488.588235\n",
       "32    451.411765\n",
       "33    594.941176\n",
       "34    502.823529\n",
       "dtype: float64"
      ]
     },
     "execution_count": 49,
     "metadata": {},
     "output_type": "execute_result"
    }
   ],
   "source": [
    "interior_past_interim_early"
   ]
  },
  {
   "cell_type": "code",
   "execution_count": 50,
   "metadata": {
    "collapsed": true
   },
   "outputs": [
    {
     "data": {
      "text/plain": [
       "0     509.529412\n",
       "1     494.764706\n",
       "2     469.823529\n",
       "3     737.529412\n",
       "4     610.294118\n",
       "5     434.588235\n",
       "6     447.411765\n",
       "7     586.823529\n",
       "8     536.764706\n",
       "9     591.941176\n",
       "10    535.705882\n",
       "11    492.764706\n",
       "12    442.000000\n",
       "13    586.588235\n",
       "14    443.000000\n",
       "15    583.588235\n",
       "16    542.000000\n",
       "17    457.882353\n",
       "18    530.176471\n",
       "19    617.235294\n",
       "20    540.647059\n",
       "21    638.705882\n",
       "22    552.352941\n",
       "23    451.823529\n",
       "24    565.823529\n",
       "25    418.941176\n",
       "26    535.764706\n",
       "27    432.058824\n",
       "28    711.411765\n",
       "29    558.411765\n",
       "30    639.882353\n",
       "31    618.058824\n",
       "32    642.294118\n",
       "33    534.411765\n",
       "34    440.411765\n",
       "35    472.235294\n",
       "36    429.588235\n",
       "37    864.352941\n",
       "38    437.411765\n",
       "39    668.705882\n",
       "40    654.941176\n",
       "41    562.882353\n",
       "42    466.764706\n",
       "43    593.470588\n",
       "44    598.882353\n",
       "45    585.823529\n",
       "46    503.882353\n",
       "47    697.647059\n",
       "48    666.058824\n",
       "49    515.000000\n",
       "dtype: float64"
      ]
     },
     "execution_count": 50,
     "metadata": {},
     "output_type": "execute_result"
    }
   ],
   "source": [
    "interior_future_ncar_early[0:50]"
   ]
  },
  {
   "cell_type": "code",
   "execution_count": 51,
   "metadata": {
    "collapsed": true
   },
   "outputs": [
    {
     "data": {
      "text/plain": [
       "50    603.705882\n",
       "51    546.647059\n",
       "52    582.823529\n",
       "53    663.117647\n",
       "54    687.000000\n",
       "55    600.882353\n",
       "56    847.882353\n",
       "57    467.000000\n",
       "58    615.294118\n",
       "59    686.647059\n",
       "60    718.176471\n",
       "61    448.235294\n",
       "62    581.352941\n",
       "63    558.823529\n",
       "64    529.882353\n",
       "65    622.588235\n",
       "66    571.117647\n",
       "67    400.705882\n",
       "68    432.294118\n",
       "69    647.235294\n",
       "70    506.705882\n",
       "71    553.529412\n",
       "72    560.352941\n",
       "73    615.294118\n",
       "74    642.470588\n",
       "75    661.470588\n",
       "76    578.117647\n",
       "77    643.000000\n",
       "78    537.411765\n",
       "79    559.647059\n",
       "80    779.352941\n",
       "81    584.000000\n",
       "82    483.235294\n",
       "83    766.176471\n",
       "84    442.352941\n",
       "dtype: float64"
      ]
     },
     "execution_count": 51,
     "metadata": {},
     "output_type": "execute_result"
    }
   ],
   "source": [
    "interior_future_ncar_early[50:]"
   ]
  },
  {
   "cell_type": "code",
   "execution_count": 52,
   "metadata": {
    "collapsed": true
   },
   "outputs": [
    {
     "data": {
      "text/plain": [
       "0     539.117647\n",
       "1     528.058824\n",
       "2     430.529412\n",
       "3     486.294118\n",
       "4     510.000000\n",
       "5     440.647059\n",
       "6     463.882353\n",
       "7     638.176471\n",
       "8     606.470588\n",
       "9     526.470588\n",
       "10    579.941176\n",
       "11    551.352941\n",
       "12    479.058824\n",
       "13    522.235294\n",
       "14    563.470588\n",
       "15    427.294118\n",
       "16    563.411765\n",
       "17    590.529412\n",
       "18    575.294118\n",
       "19    492.588235\n",
       "20    525.058824\n",
       "21    608.411765\n",
       "22    524.705882\n",
       "23    529.529412\n",
       "24    497.941176\n",
       "25    501.705882\n",
       "26    390.588235\n",
       "27    516.823529\n",
       "28    581.411765\n",
       "29    620.058824\n",
       "30    567.176471\n",
       "31    550.764706\n",
       "32    592.294118\n",
       "33    425.941176\n",
       "34    564.058824\n",
       "35    579.000000\n",
       "36    552.470588\n",
       "37    532.117647\n",
       "38    534.823529\n",
       "39    503.823529\n",
       "40    564.235294\n",
       "41    554.294118\n",
       "42    559.058824\n",
       "43    451.529412\n",
       "44    603.882353\n",
       "45    501.823529\n",
       "46    670.647059\n",
       "47    615.352941\n",
       "48    599.588235\n",
       "49    461.176471\n",
       "dtype: float64"
      ]
     },
     "execution_count": 52,
     "metadata": {},
     "output_type": "execute_result"
    }
   ],
   "source": [
    "interior_future_gfdl_cm3_early[0:50]"
   ]
  },
  {
   "cell_type": "code",
   "execution_count": 53,
   "metadata": {
    "collapsed": true
   },
   "outputs": [
    {
     "data": {
      "text/plain": [
       "50    580.352941\n",
       "51    552.352941\n",
       "52    623.647059\n",
       "53    624.058824\n",
       "54    578.941176\n",
       "55    427.823529\n",
       "56    638.235294\n",
       "57    614.058824\n",
       "58    701.882353\n",
       "59    696.588235\n",
       "60    642.352941\n",
       "61    629.588235\n",
       "62    478.235294\n",
       "63    610.529412\n",
       "64    604.705882\n",
       "65    570.529412\n",
       "66    526.411765\n",
       "67    544.588235\n",
       "68    664.705882\n",
       "69    499.411765\n",
       "70    614.941176\n",
       "71    550.411765\n",
       "72    749.117647\n",
       "73    617.705882\n",
       "74    621.294118\n",
       "75    682.000000\n",
       "76    577.470588\n",
       "77    500.235294\n",
       "78    645.529412\n",
       "79    642.764706\n",
       "80    587.705882\n",
       "81    586.529412\n",
       "82    651.647059\n",
       "83    728.117647\n",
       "84    731.764706\n",
       "dtype: float64"
      ]
     },
     "execution_count": 53,
     "metadata": {},
     "output_type": "execute_result"
    }
   ],
   "source": [
    "interior_future_gfdl_cm3_early[50:]"
   ]
  }
 ],
 "metadata": {
  "kernelspec": {
   "display_name": "Python 3 (ipykernel)",
   "language": "python",
   "name": "python3"
  },
  "language_info": {
   "codemirror_mode": {
    "name": "ipython",
    "version": 3
   },
   "file_extension": ".py",
   "mimetype": "text/x-python",
   "name": "python",
   "nbconvert_exporter": "python",
   "pygments_lexer": "ipython3",
   "version": "3.11.5"
  }
 },
 "nbformat": 4,
 "nbformat_minor": 4
}
